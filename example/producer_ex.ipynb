{
 "cells": [
  {
   "cell_type": "code",
   "execution_count": 12,
   "metadata": {},
   "outputs": [],
   "source": [
    "import websockets\n",
    "import asyncio\n",
    "import json"
   ]
  },
  {
   "cell_type": "code",
   "execution_count": 5,
   "metadata": {},
   "outputs": [],
   "source": [
    "async def bithumb_ws_client():\n",
    "    uri = 'wss://pubwss.bithumb.com/pub/ws'\n",
    "    \n",
    "    async with websockets.connect(uri) as websocket:\n",
    "        greeting = await websocket.recv()\n",
    "        print(greeting)\n",
    "\n",
    "async def main():\n",
    "    await bithumb_ws_client()"
   ]
  },
  {
   "cell_type": "code",
   "execution_count": 14,
   "metadata": {},
   "outputs": [
    {
     "name": "stdout",
     "output_type": "stream",
     "text": [
      "{\"status\":\"0000\",\"resmsg\":\"Connected Successfully\"}\n",
      "{'status': '0000', 'resmsg': 'Filter Registered Successfully'}\n",
      "{'type': 'ticker', 'content': {'tickType': '1H', 'date': '20220311', 'time': '135101', 'openPrice': '48129000', 'closePrice': '48062000', 'lowPrice': '48007000', 'highPrice': '48632000', 'value': '7588408161.18417', 'volume': '157.48406635', 'sellVolume': '65.24400772', 'buyVolume': '92.24005863', 'prevClosePrice': '48760000', 'chgRate': '-0.14', 'chgAmt': '-67000', 'volumePower': '141.38', 'symbol': 'BTC_KRW'}}\n",
      "{'type': 'ticker', 'content': {'tickType': '1H', 'date': '20220311', 'time': '135103', 'openPrice': '48135000', 'closePrice': '48061000', 'lowPrice': '48007000', 'highPrice': '48632000', 'value': '7590101831.78417', 'volume': '157.51946635', 'sellVolume': '65.39370772', 'buyVolume': '92.12575863', 'prevClosePrice': '48760000', 'chgRate': '-0.15', 'chgAmt': '-74000', 'volumePower': '140.88', 'symbol': 'BTC_KRW'}}\n",
      "{'type': 'ticker', 'content': {'tickType': '1H', 'date': '20220311', 'time': '135104', 'openPrice': '48135000', 'closePrice': '48045000', 'lowPrice': '48007000', 'highPrice': '48632000', 'value': '7587641656.28417', 'volume': '157.46836635', 'sellVolume': '65.39900772', 'buyVolume': '92.06935863', 'prevClosePrice': '48760000', 'chgRate': '-0.19', 'chgAmt': '-90000', 'volumePower': '140.78', 'symbol': 'BTC_KRW'}}\n",
      "{'type': 'ticker', 'content': {'tickType': '1H', 'date': '20220311', 'time': '135105', 'openPrice': '48133000', 'closePrice': '48062000', 'lowPrice': '48007000', 'highPrice': '48632000', 'value': '7594468362.48417', 'volume': '157.61046635', 'sellVolume': '65.51100772', 'buyVolume': '92.09945863', 'prevClosePrice': '48760000', 'chgRate': '-0.15', 'chgAmt': '-71000', 'volumePower': '140.59', 'symbol': 'BTC_KRW'}}\n",
      "{'type': 'ticker', 'content': {'tickType': '1H', 'date': '20220311', 'time': '135106', 'openPrice': '48133000', 'closePrice': '48076000', 'lowPrice': '48007000', 'highPrice': '48632000', 'value': '7601626206.88417', 'volume': '157.75936635', 'sellVolume': '65.65990772', 'buyVolume': '92.09945863', 'prevClosePrice': '48760000', 'chgRate': '-0.12', 'chgAmt': '-57000', 'volumePower': '140.27', 'symbol': 'BTC_KRW'}}\n",
      "{'type': 'ticker', 'content': {'tickType': '1H', 'date': '20220311', 'time': '135107', 'openPrice': '48133000', 'closePrice': '48088000', 'lowPrice': '48007000', 'highPrice': '48632000', 'value': '7608070062.58417', 'volume': '157.89336635', 'sellVolume': '65.77190772', 'buyVolume': '92.12145863', 'prevClosePrice': '48760000', 'chgRate': '-0.09', 'chgAmt': '-45000', 'volumePower': '140.06', 'symbol': 'BTC_KRW'}}\n",
      "{'type': 'ticker', 'content': {'tickType': '1H', 'date': '20220311', 'time': '135108', 'openPrice': '48133000', 'closePrice': '48089000', 'lowPrice': '48007000', 'highPrice': '48632000', 'value': '7610676486.38417', 'volume': '157.94756635', 'sellVolume': '65.82610772', 'buyVolume': '92.12145863', 'prevClosePrice': '48760000', 'chgRate': '-0.09', 'chgAmt': '-44000', 'volumePower': '139.95', 'symbol': 'BTC_KRW'}}\n",
      "{'type': 'ticker', 'content': {'tickType': '1H', 'date': '20220311', 'time': '135109', 'openPrice': '48139000', 'closePrice': '48089000', 'lowPrice': '48007000', 'highPrice': '48632000', 'value': '7608961565.58417', 'volume': '157.91196635', 'sellVolume': '65.79050772', 'buyVolume': '92.12145863', 'prevClosePrice': '48760000', 'chgRate': '-0.10', 'chgAmt': '-50000', 'volumePower': '140.02', 'symbol': 'BTC_KRW'}}\n"
     ]
    },
    {
     "ename": "CancelledError",
     "evalue": "",
     "output_type": "error",
     "traceback": [
      "\u001b[1;31m---------------------------------------------------------------------------\u001b[0m",
      "\u001b[1;31mCancelledError\u001b[0m                            Traceback (most recent call last)",
      "\u001b[1;32m<ipython-input-14-e9b46f7414ac>\u001b[0m in \u001b[0;36masync-def-wrapper\u001b[1;34m()\u001b[0m\n\u001b[0;32m     17\u001b[0m         \u001b[0mdata\u001b[0m \u001b[1;33m=\u001b[0m \u001b[0mjson\u001b[0m\u001b[1;33m.\u001b[0m\u001b[0mloads\u001b[0m\u001b[1;33m(\u001b[0m\u001b[0mdata\u001b[0m\u001b[1;33m)\u001b[0m\u001b[1;33m\u001b[0m\u001b[1;33m\u001b[0m\u001b[0m\n\u001b[0;32m     18\u001b[0m         \u001b[0mprint\u001b[0m\u001b[1;33m(\u001b[0m\u001b[0mdata\u001b[0m\u001b[1;33m)\u001b[0m\u001b[1;33m\u001b[0m\u001b[1;33m\u001b[0m\u001b[0m\n",
      "\u001b[1;32m~\\anaconda3\\lib\\site-packages\\websockets\\legacy\\protocol.py\u001b[0m in \u001b[0;36mrecv\u001b[1;34m(self)\u001b[0m\n\u001b[0;32m    536\u001b[0m                     \u001b[1;33m[\u001b[0m\u001b[0mpop_message_waiter\u001b[0m\u001b[1;33m,\u001b[0m \u001b[0mself\u001b[0m\u001b[1;33m.\u001b[0m\u001b[0mtransfer_data_task\u001b[0m\u001b[1;33m]\u001b[0m\u001b[1;33m,\u001b[0m\u001b[1;33m\u001b[0m\u001b[1;33m\u001b[0m\u001b[0m\n\u001b[0;32m    537\u001b[0m                     \u001b[0mreturn_when\u001b[0m\u001b[1;33m=\u001b[0m\u001b[0masyncio\u001b[0m\u001b[1;33m.\u001b[0m\u001b[0mFIRST_COMPLETED\u001b[0m\u001b[1;33m,\u001b[0m\u001b[1;33m\u001b[0m\u001b[1;33m\u001b[0m\u001b[0m\n\u001b[1;32m--> 538\u001b[1;33m                     \u001b[1;33m**\u001b[0m\u001b[0mloop_if_py_lt_38\u001b[0m\u001b[1;33m(\u001b[0m\u001b[0mself\u001b[0m\u001b[1;33m.\u001b[0m\u001b[0mloop\u001b[0m\u001b[1;33m)\u001b[0m\u001b[1;33m,\u001b[0m\u001b[1;33m\u001b[0m\u001b[1;33m\u001b[0m\u001b[0m\n\u001b[0m\u001b[0;32m    539\u001b[0m                 )\n\u001b[0;32m    540\u001b[0m             \u001b[1;32mfinally\u001b[0m\u001b[1;33m:\u001b[0m\u001b[1;33m\u001b[0m\u001b[1;33m\u001b[0m\u001b[0m\n",
      "\u001b[1;32m~\\anaconda3\\lib\\asyncio\\tasks.py\u001b[0m in \u001b[0;36mwait\u001b[1;34m(fs, loop, timeout, return_when)\u001b[0m\n\u001b[0;32m    387\u001b[0m     \u001b[0mfs\u001b[0m \u001b[1;33m=\u001b[0m \u001b[1;33m{\u001b[0m\u001b[0mensure_future\u001b[0m\u001b[1;33m(\u001b[0m\u001b[0mf\u001b[0m\u001b[1;33m,\u001b[0m \u001b[0mloop\u001b[0m\u001b[1;33m=\u001b[0m\u001b[0mloop\u001b[0m\u001b[1;33m)\u001b[0m \u001b[1;32mfor\u001b[0m \u001b[0mf\u001b[0m \u001b[1;32min\u001b[0m \u001b[0mset\u001b[0m\u001b[1;33m(\u001b[0m\u001b[0mfs\u001b[0m\u001b[1;33m)\u001b[0m\u001b[1;33m}\u001b[0m\u001b[1;33m\u001b[0m\u001b[1;33m\u001b[0m\u001b[0m\n\u001b[0;32m    388\u001b[0m \u001b[1;33m\u001b[0m\u001b[0m\n\u001b[1;32m--> 389\u001b[1;33m     \u001b[1;32mreturn\u001b[0m \u001b[1;32mawait\u001b[0m \u001b[0m_wait\u001b[0m\u001b[1;33m(\u001b[0m\u001b[0mfs\u001b[0m\u001b[1;33m,\u001b[0m \u001b[0mtimeout\u001b[0m\u001b[1;33m,\u001b[0m \u001b[0mreturn_when\u001b[0m\u001b[1;33m,\u001b[0m \u001b[0mloop\u001b[0m\u001b[1;33m)\u001b[0m\u001b[1;33m\u001b[0m\u001b[1;33m\u001b[0m\u001b[0m\n\u001b[0m\u001b[0;32m    390\u001b[0m \u001b[1;33m\u001b[0m\u001b[0m\n\u001b[0;32m    391\u001b[0m \u001b[1;33m\u001b[0m\u001b[0m\n",
      "\u001b[1;32m~\\anaconda3\\lib\\asyncio\\tasks.py\u001b[0m in \u001b[0;36m_wait\u001b[1;34m(fs, timeout, return_when, loop)\u001b[0m\n\u001b[0;32m    480\u001b[0m \u001b[1;33m\u001b[0m\u001b[0m\n\u001b[0;32m    481\u001b[0m     \u001b[1;32mtry\u001b[0m\u001b[1;33m:\u001b[0m\u001b[1;33m\u001b[0m\u001b[1;33m\u001b[0m\u001b[0m\n\u001b[1;32m--> 482\u001b[1;33m         \u001b[1;32mawait\u001b[0m \u001b[0mwaiter\u001b[0m\u001b[1;33m\u001b[0m\u001b[1;33m\u001b[0m\u001b[0m\n\u001b[0m\u001b[0;32m    483\u001b[0m     \u001b[1;32mfinally\u001b[0m\u001b[1;33m:\u001b[0m\u001b[1;33m\u001b[0m\u001b[1;33m\u001b[0m\u001b[0m\n\u001b[0;32m    484\u001b[0m         \u001b[1;32mif\u001b[0m \u001b[0mtimeout_handle\u001b[0m \u001b[1;32mis\u001b[0m \u001b[1;32mnot\u001b[0m \u001b[1;32mNone\u001b[0m\u001b[1;33m:\u001b[0m\u001b[1;33m\u001b[0m\u001b[1;33m\u001b[0m\u001b[0m\n",
      "\u001b[1;31mCancelledError\u001b[0m: "
     ]
    }
   ],
   "source": [
    "uri = 'wss://pubwss.bithumb.com/pub/ws'\n",
    "    \n",
    "async with websockets.connect(uri) as websocket:\n",
    "    greeting = await websocket.recv()\n",
    "    print(greeting)\n",
    "    \n",
    "    subscribe_fmt = {\n",
    "            \"type\":\"ticker\", \n",
    "            \"symbols\": [\"BTC_KRW\"], \n",
    "            \"tickTypes\": [\"1H\"]\n",
    "    }\n",
    "    subscribe_data = json.dumps(subscribe_fmt)\n",
    "    await websocket.send(subscribe_data)\n",
    "    \n",
    "    while True:\n",
    "        data = await websocket.recv()\n",
    "        data = json.loads(data)\n",
    "        print(data)"
   ]
  },
  {
   "cell_type": "code",
   "execution_count": 15,
   "metadata": {},
   "outputs": [
    {
     "name": "stdout",
     "output_type": "stream",
     "text": [
      "{\"status\":\"0000\",\"resmsg\":\"Connected Successfully\"}\n",
      "{'status': '0000', 'resmsg': 'Filter Registered Successfully'}\n",
      "{'type': 'transaction', 'content': {'list': [{'buySellGb': '2', 'contPrice': '48302000', 'contQty': '0.107', 'contAmt': '5168314.000', 'contDtm': '2022-03-11 15:39:21.543194', 'updn': 'up', 'symbol': 'BTC_KRW'}]}}\n",
      "{'type': 'transaction', 'content': {'list': [{'buySellGb': '2', 'contPrice': '48280000', 'contQty': '0.0857', 'contAmt': '4137596.0000', 'contDtm': '2022-03-11 15:39:29.741684', 'updn': 'dn', 'symbol': 'BTC_KRW'}]}}\n",
      "{'type': 'transaction', 'content': {'list': [{'buySellGb': '2', 'contPrice': '48280000', 'contQty': '0.0564', 'contAmt': '2722992.0000', 'contDtm': '2022-03-11 15:39:29.860322', 'updn': 'dn', 'symbol': 'BTC_KRW'}]}}\n",
      "{'type': 'transaction', 'content': {'list': [{'buySellGb': '2', 'contPrice': '48279000', 'contQty': '0.0931', 'contAmt': '4494774.9000', 'contDtm': '2022-03-11 15:39:30.853592', 'updn': 'dn', 'symbol': 'BTC_KRW'}, {'buySellGb': '2', 'contPrice': '48280000', 'contQty': '0.0857', 'contAmt': '4137596.0000', 'contDtm': '2022-03-11 15:39:31.123245', 'updn': 'up', 'symbol': 'BTC_KRW'}, {'buySellGb': '2', 'contPrice': '48280000', 'contQty': '0.0054', 'contAmt': '260712.0000', 'contDtm': '2022-03-11 15:39:31.649988', 'updn': 'dn', 'symbol': 'BTC_KRW'}]}}\n",
      "{'type': 'transaction', 'content': {'list': [{'buySellGb': '2', 'contPrice': '48279000', 'contQty': '0.1446', 'contAmt': '6981143.4000', 'contDtm': '2022-03-11 15:39:32.295552', 'updn': 'dn', 'symbol': 'BTC_KRW'}]}}\n",
      "{'type': 'transaction', 'content': {'list': [{'buySellGb': '2', 'contPrice': '48280000', 'contQty': '0.008', 'contAmt': '386240.000', 'contDtm': '2022-03-11 15:39:37.622364', 'updn': 'up', 'symbol': 'BTC_KRW'}]}}\n",
      "{'type': 'transaction', 'content': {'list': [{'buySellGb': '2', 'contPrice': '48280000', 'contQty': '0.0168', 'contAmt': '811104.0000', 'contDtm': '2022-03-11 15:39:38.434076', 'updn': 'dn', 'symbol': 'BTC_KRW'}, {'buySellGb': '2', 'contPrice': '48280000', 'contQty': '0.008', 'contAmt': '386240.000', 'contDtm': '2022-03-11 15:39:39.036642', 'updn': 'dn', 'symbol': 'BTC_KRW'}]}}\n",
      "{'type': 'transaction', 'content': {'list': [{'buySellGb': '2', 'contPrice': '48279000', 'contQty': '0.1498', 'contAmt': '7232194.2000', 'contDtm': '2022-03-11 15:39:39.815004', 'updn': 'dn', 'symbol': 'BTC_KRW'}]}}\n",
      "{'type': 'transaction', 'content': {'list': [{'buySellGb': '2', 'contPrice': '48280000', 'contQty': '0.1998', 'contAmt': '9646344.0000', 'contDtm': '2022-03-11 15:39:40.508232', 'updn': 'up', 'symbol': 'BTC_KRW'}, {'buySellGb': '2', 'contPrice': '48290000', 'contQty': '0.0001', 'contAmt': '4829.0000', 'contDtm': '2022-03-11 15:39:40.508658', 'updn': 'up', 'symbol': 'BTC_KRW'}]}}\n",
      "{'type': 'transaction', 'content': {'list': [{'buySellGb': '2', 'contPrice': '48298000', 'contQty': '0.1559', 'contAmt': '7529658.2000', 'contDtm': '2022-03-11 15:39:45.674712', 'updn': 'up', 'symbol': 'BTC_KRW'}]}}\n",
      "{'type': 'transaction', 'content': {'list': [{'buySellGb': '1', 'contPrice': '48272000', 'contQty': '0.0252', 'contAmt': '1216454.4000', 'contDtm': '2022-03-11 15:39:50.111720', 'updn': 'dn', 'symbol': 'BTC_KRW'}]}}\n",
      "{'type': 'transaction', 'content': {'list': [{'buySellGb': '2', 'contPrice': '48303000', 'contQty': '0.0063', 'contAmt': '304308.9000', 'contDtm': '2022-03-11 15:39:50.640238', 'updn': 'up', 'symbol': 'BTC_KRW'}]}}\n",
      "{'type': 'transaction', 'content': {'list': [{'buySellGb': '2', 'contPrice': '48305000', 'contQty': '0.0227', 'contAmt': '1096523.5000', 'contDtm': '2022-03-11 15:39:54.519884', 'updn': 'up', 'symbol': 'BTC_KRW'}]}}\n",
      "{'type': 'transaction', 'content': {'list': [{'buySellGb': '2', 'contPrice': '48305000', 'contQty': '0.0001', 'contAmt': '4830.5000', 'contDtm': '2022-03-11 15:39:54.520407', 'updn': 'dn', 'symbol': 'BTC_KRW'}, {'buySellGb': '2', 'contPrice': '48307000', 'contQty': '0.02120000', 'contAmt': '1024108.40000000', 'contDtm': '2022-03-11 15:39:54.520726', 'updn': 'up', 'symbol': 'BTC_KRW'}]}}\n",
      "{'type': 'transaction', 'content': {'list': [{'buySellGb': '2', 'contPrice': '48279000', 'contQty': '0.002', 'contAmt': '96558.000', 'contDtm': '2022-03-11 15:40:00.060545', 'updn': 'dn', 'symbol': 'BTC_KRW'}]}}\n"
     ]
    },
    {
     "ename": "ConnectionClosedError",
     "evalue": "sent 1011 (unexpected error) keepalive ping timeout; no close frame received",
     "output_type": "error",
     "traceback": [
      "\u001b[1;31m---------------------------------------------------------------------------\u001b[0m",
      "\u001b[1;31mCancelledError\u001b[0m                            Traceback (most recent call last)",
      "\u001b[1;32m~\\anaconda3\\lib\\site-packages\\websockets\\legacy\\protocol.py\u001b[0m in \u001b[0;36mtransfer_data\u001b[1;34m(self)\u001b[0m\n\u001b[0;32m    943\u001b[0m             \u001b[1;32mwhile\u001b[0m \u001b[1;32mTrue\u001b[0m\u001b[1;33m:\u001b[0m\u001b[1;33m\u001b[0m\u001b[1;33m\u001b[0m\u001b[0m\n\u001b[1;32m--> 944\u001b[1;33m                 \u001b[0mmessage\u001b[0m \u001b[1;33m=\u001b[0m \u001b[1;32mawait\u001b[0m \u001b[0mself\u001b[0m\u001b[1;33m.\u001b[0m\u001b[0mread_message\u001b[0m\u001b[1;33m(\u001b[0m\u001b[1;33m)\u001b[0m\u001b[1;33m\u001b[0m\u001b[1;33m\u001b[0m\u001b[0m\n\u001b[0m\u001b[0;32m    945\u001b[0m \u001b[1;33m\u001b[0m\u001b[0m\n",
      "\u001b[1;32m~\\anaconda3\\lib\\site-packages\\websockets\\legacy\\protocol.py\u001b[0m in \u001b[0;36mread_message\u001b[1;34m(self)\u001b[0m\n\u001b[0;32m   1012\u001b[0m         \"\"\"\n\u001b[1;32m-> 1013\u001b[1;33m         \u001b[0mframe\u001b[0m \u001b[1;33m=\u001b[0m \u001b[1;32mawait\u001b[0m \u001b[0mself\u001b[0m\u001b[1;33m.\u001b[0m\u001b[0mread_data_frame\u001b[0m\u001b[1;33m(\u001b[0m\u001b[0mmax_size\u001b[0m\u001b[1;33m=\u001b[0m\u001b[0mself\u001b[0m\u001b[1;33m.\u001b[0m\u001b[0mmax_size\u001b[0m\u001b[1;33m)\u001b[0m\u001b[1;33m\u001b[0m\u001b[1;33m\u001b[0m\u001b[0m\n\u001b[0m\u001b[0;32m   1014\u001b[0m \u001b[1;33m\u001b[0m\u001b[0m\n",
      "\u001b[1;32m~\\anaconda3\\lib\\site-packages\\websockets\\legacy\\protocol.py\u001b[0m in \u001b[0;36mread_data_frame\u001b[1;34m(self, max_size)\u001b[0m\n\u001b[0;32m   1087\u001b[0m         \u001b[1;32mwhile\u001b[0m \u001b[1;32mTrue\u001b[0m\u001b[1;33m:\u001b[0m\u001b[1;33m\u001b[0m\u001b[1;33m\u001b[0m\u001b[0m\n\u001b[1;32m-> 1088\u001b[1;33m             \u001b[0mframe\u001b[0m \u001b[1;33m=\u001b[0m \u001b[1;32mawait\u001b[0m \u001b[0mself\u001b[0m\u001b[1;33m.\u001b[0m\u001b[0mread_frame\u001b[0m\u001b[1;33m(\u001b[0m\u001b[0mmax_size\u001b[0m\u001b[1;33m)\u001b[0m\u001b[1;33m\u001b[0m\u001b[1;33m\u001b[0m\u001b[0m\n\u001b[0m\u001b[0;32m   1089\u001b[0m \u001b[1;33m\u001b[0m\u001b[0m\n",
      "\u001b[1;32m~\\anaconda3\\lib\\site-packages\\websockets\\legacy\\protocol.py\u001b[0m in \u001b[0;36mread_frame\u001b[1;34m(self, max_size)\u001b[0m\n\u001b[0;32m   1146\u001b[0m             \u001b[0mmax_size\u001b[0m\u001b[1;33m=\u001b[0m\u001b[0mmax_size\u001b[0m\u001b[1;33m,\u001b[0m\u001b[1;33m\u001b[0m\u001b[1;33m\u001b[0m\u001b[0m\n\u001b[1;32m-> 1147\u001b[1;33m             \u001b[0mextensions\u001b[0m\u001b[1;33m=\u001b[0m\u001b[0mself\u001b[0m\u001b[1;33m.\u001b[0m\u001b[0mextensions\u001b[0m\u001b[1;33m,\u001b[0m\u001b[1;33m\u001b[0m\u001b[1;33m\u001b[0m\u001b[0m\n\u001b[0m\u001b[0;32m   1148\u001b[0m         )\n",
      "\u001b[1;32m~\\anaconda3\\lib\\site-packages\\websockets\\legacy\\framing.py\u001b[0m in \u001b[0;36mread\u001b[1;34m(cls, reader, mask, max_size, extensions)\u001b[0m\n\u001b[0;32m     69\u001b[0m         \u001b[1;31m# Read the header.\u001b[0m\u001b[1;33m\u001b[0m\u001b[1;33m\u001b[0m\u001b[1;33m\u001b[0m\u001b[0m\n\u001b[1;32m---> 70\u001b[1;33m         \u001b[0mdata\u001b[0m \u001b[1;33m=\u001b[0m \u001b[1;32mawait\u001b[0m \u001b[0mreader\u001b[0m\u001b[1;33m(\u001b[0m\u001b[1;36m2\u001b[0m\u001b[1;33m)\u001b[0m\u001b[1;33m\u001b[0m\u001b[1;33m\u001b[0m\u001b[0m\n\u001b[0m\u001b[0;32m     71\u001b[0m         \u001b[0mhead1\u001b[0m\u001b[1;33m,\u001b[0m \u001b[0mhead2\u001b[0m \u001b[1;33m=\u001b[0m \u001b[0mstruct\u001b[0m\u001b[1;33m.\u001b[0m\u001b[0munpack\u001b[0m\u001b[1;33m(\u001b[0m\u001b[1;34m\"!BB\"\u001b[0m\u001b[1;33m,\u001b[0m \u001b[0mdata\u001b[0m\u001b[1;33m)\u001b[0m\u001b[1;33m\u001b[0m\u001b[1;33m\u001b[0m\u001b[0m\n",
      "\u001b[1;32m~\\anaconda3\\lib\\asyncio\\streams.py\u001b[0m in \u001b[0;36mreadexactly\u001b[1;34m(self, n)\u001b[0m\n\u001b[0;32m    678\u001b[0m \u001b[1;33m\u001b[0m\u001b[0m\n\u001b[1;32m--> 679\u001b[1;33m             \u001b[1;32mawait\u001b[0m \u001b[0mself\u001b[0m\u001b[1;33m.\u001b[0m\u001b[0m_wait_for_data\u001b[0m\u001b[1;33m(\u001b[0m\u001b[1;34m'readexactly'\u001b[0m\u001b[1;33m)\u001b[0m\u001b[1;33m\u001b[0m\u001b[1;33m\u001b[0m\u001b[0m\n\u001b[0m\u001b[0;32m    680\u001b[0m \u001b[1;33m\u001b[0m\u001b[0m\n",
      "\u001b[1;32m~\\anaconda3\\lib\\asyncio\\streams.py\u001b[0m in \u001b[0;36m_wait_for_data\u001b[1;34m(self, func_name)\u001b[0m\n\u001b[0;32m    472\u001b[0m         \u001b[1;32mtry\u001b[0m\u001b[1;33m:\u001b[0m\u001b[1;33m\u001b[0m\u001b[1;33m\u001b[0m\u001b[0m\n\u001b[1;32m--> 473\u001b[1;33m             \u001b[1;32mawait\u001b[0m \u001b[0mself\u001b[0m\u001b[1;33m.\u001b[0m\u001b[0m_waiter\u001b[0m\u001b[1;33m\u001b[0m\u001b[1;33m\u001b[0m\u001b[0m\n\u001b[0m\u001b[0;32m    474\u001b[0m         \u001b[1;32mfinally\u001b[0m\u001b[1;33m:\u001b[0m\u001b[1;33m\u001b[0m\u001b[1;33m\u001b[0m\u001b[0m\n",
      "\u001b[1;31mCancelledError\u001b[0m: ",
      "\nThe above exception was the direct cause of the following exception:\n",
      "\u001b[1;31mConnectionClosedError\u001b[0m                     Traceback (most recent call last)",
      "\u001b[1;32m<ipython-input-15-764d5bc30ff6>\u001b[0m in \u001b[0;36masync-def-wrapper\u001b[1;34m()\u001b[0m\n\u001b[0;32m     17\u001b[0m         \u001b[0mdata\u001b[0m \u001b[1;33m=\u001b[0m \u001b[0mjson\u001b[0m\u001b[1;33m.\u001b[0m\u001b[0mloads\u001b[0m\u001b[1;33m(\u001b[0m\u001b[0mdata\u001b[0m\u001b[1;33m)\u001b[0m\u001b[1;33m\u001b[0m\u001b[1;33m\u001b[0m\u001b[0m\n\u001b[0;32m     18\u001b[0m         \u001b[0mprint\u001b[0m\u001b[1;33m(\u001b[0m\u001b[0mdata\u001b[0m\u001b[1;33m)\u001b[0m\u001b[1;33m\u001b[0m\u001b[1;33m\u001b[0m\u001b[0m\n",
      "\u001b[1;32m~\\anaconda3\\lib\\site-packages\\websockets\\legacy\\protocol.py\u001b[0m in \u001b[0;36mrecv\u001b[1;34m(self)\u001b[0m\n\u001b[0;32m    550\u001b[0m                     \u001b[1;31m# Wait until the connection is closed to raise\u001b[0m\u001b[1;33m\u001b[0m\u001b[1;33m\u001b[0m\u001b[1;33m\u001b[0m\u001b[0m\n\u001b[0;32m    551\u001b[0m                     \u001b[1;31m# ConnectionClosed with the correct code and reason.\u001b[0m\u001b[1;33m\u001b[0m\u001b[1;33m\u001b[0m\u001b[1;33m\u001b[0m\u001b[0m\n\u001b[1;32m--> 552\u001b[1;33m                     \u001b[1;32mawait\u001b[0m \u001b[0mself\u001b[0m\u001b[1;33m.\u001b[0m\u001b[0mensure_open\u001b[0m\u001b[1;33m(\u001b[0m\u001b[1;33m)\u001b[0m\u001b[1;33m\u001b[0m\u001b[1;33m\u001b[0m\u001b[0m\n\u001b[0m\u001b[0;32m    553\u001b[0m \u001b[1;33m\u001b[0m\u001b[0m\n\u001b[0;32m    554\u001b[0m         \u001b[1;31m# Pop a message from the queue.\u001b[0m\u001b[1;33m\u001b[0m\u001b[1;33m\u001b[0m\u001b[1;33m\u001b[0m\u001b[0m\n",
      "\u001b[1;32m~\\anaconda3\\lib\\site-packages\\websockets\\legacy\\protocol.py\u001b[0m in \u001b[0;36mensure_open\u001b[1;34m(self)\u001b[0m\n\u001b[0;32m    927\u001b[0m             \u001b[1;31m# case self.close_connection_task will complete even faster.\u001b[0m\u001b[1;33m\u001b[0m\u001b[1;33m\u001b[0m\u001b[1;33m\u001b[0m\u001b[0m\n\u001b[0;32m    928\u001b[0m             \u001b[1;32mawait\u001b[0m \u001b[0masyncio\u001b[0m\u001b[1;33m.\u001b[0m\u001b[0mshield\u001b[0m\u001b[1;33m(\u001b[0m\u001b[0mself\u001b[0m\u001b[1;33m.\u001b[0m\u001b[0mclose_connection_task\u001b[0m\u001b[1;33m)\u001b[0m\u001b[1;33m\u001b[0m\u001b[1;33m\u001b[0m\u001b[0m\n\u001b[1;32m--> 929\u001b[1;33m             \u001b[1;32mraise\u001b[0m \u001b[0mself\u001b[0m\u001b[1;33m.\u001b[0m\u001b[0mconnection_closed_exc\u001b[0m\u001b[1;33m(\u001b[0m\u001b[1;33m)\u001b[0m\u001b[1;33m\u001b[0m\u001b[1;33m\u001b[0m\u001b[0m\n\u001b[0m\u001b[0;32m    930\u001b[0m \u001b[1;33m\u001b[0m\u001b[0m\n\u001b[0;32m    931\u001b[0m         \u001b[1;31m# Control may only reach this point in buggy third-party subclasses.\u001b[0m\u001b[1;33m\u001b[0m\u001b[1;33m\u001b[0m\u001b[1;33m\u001b[0m\u001b[0m\n",
      "\u001b[1;31mConnectionClosedError\u001b[0m: sent 1011 (unexpected error) keepalive ping timeout; no close frame received"
     ]
    }
   ],
   "source": [
    "uri = 'wss://pubwss.bithumb.com/pub/ws'\n",
    "    \n",
    "async with websockets.connect(uri) as websocket:\n",
    "    greeting = await websocket.recv()\n",
    "    print(greeting)\n",
    "    \n",
    "    subscribe_fmt = {\n",
    "            \"type\":\"transaction\", \n",
    "            \"symbols\": [\"BTC_KRW\"], \n",
    "            \"tickTypes\": [\"1H\"]\n",
    "    }\n",
    "    subscribe_data = json.dumps(subscribe_fmt)\n",
    "    await websocket.send(subscribe_data)\n",
    "    \n",
    "    while True:\n",
    "        data = await websocket.recv()\n",
    "        data = json.loads(data)\n",
    "        print(data)"
   ]
  },
  {
   "cell_type": "code",
   "execution_count": 29,
   "metadata": {
    "scrolled": false
   },
   "outputs": [
    {
     "name": "stdout",
     "output_type": "stream",
     "text": [
      "{'type': 'ticker', 'code': 'KRW-BTC', 'opening_price': 48931000.0, 'high_price': 49941000.0, 'low_price': 47802000.0, 'trade_price': 49606000.0, 'prev_closing_price': 48917000.0, 'acc_trade_price': 206057547543.75616, 'change': 'RISE', 'change_price': 689000.0, 'signed_change_price': 689000.0, 'change_rate': 0.0140850829, 'signed_change_rate': 0.0140850829, 'ask_bid': 'BID', 'trade_volume': 0.004, 'acc_trade_volume': 4232.45587348, 'trade_date': '20220311', 'trade_time': '121307', 'trade_timestamp': 1647000787000, 'acc_ask_volume': 2212.29062788, 'acc_bid_volume': 2020.1652456, 'highest_52_week_price': 82700000.0, 'highest_52_week_date': '2021-11-09', 'lowest_52_week_price': 33900000.0, 'lowest_52_week_date': '2021-06-22', 'market_state': 'ACTIVE', 'is_trading_suspended': False, 'delisting_date': None, 'market_warning': 'NONE', 'timestamp': 1647000787015, 'acc_trade_price_24h': 375165973870.6162, 'acc_trade_volume_24h': 7692.03789885, 'stream_type': 'SNAPSHOT'}\n",
      "{'type': 'ticker', 'code': 'KRW-BTC', 'opening_price': 48931000.0, 'high_price': 49941000.0, 'low_price': 47802000.0, 'trade_price': 49595000.0, 'prev_closing_price': 48917000.0, 'acc_trade_price': 206057745923.75616, 'change': 'RISE', 'change_price': 678000.0, 'signed_change_price': 678000.0, 'change_rate': 0.0138602122, 'signed_change_rate': 0.0138602122, 'ask_bid': 'BID', 'trade_volume': 0.004, 'acc_trade_volume': 4232.45987348, 'trade_date': '20220311', 'trade_time': '121308', 'trade_timestamp': 1647000788000, 'acc_ask_volume': 2212.29062788, 'acc_bid_volume': 2020.1692456, 'highest_52_week_price': 82700000.0, 'highest_52_week_date': '2021-11-09', 'lowest_52_week_price': 33900000.0, 'lowest_52_week_date': '2021-06-22', 'market_state': 'ACTIVE', 'is_trading_suspended': False, 'delisting_date': None, 'market_warning': 'NONE', 'timestamp': 1647000788009, 'acc_trade_price_24h': 375165973870.6162, 'acc_trade_volume_24h': 7692.03789885, 'stream_type': 'REALTIME'}\n",
      "{'type': 'ticker', 'code': 'KRW-BTC', 'opening_price': 48931000.0, 'high_price': 49941000.0, 'low_price': 47802000.0, 'trade_price': 49610000.0, 'prev_closing_price': 48917000.0, 'acc_trade_price': 206058475087.56735, 'change': 'RISE', 'change_price': 693000.0, 'signed_change_price': 693000.0, 'change_rate': 0.0141668541, 'signed_change_rate': 0.0141668541, 'ask_bid': 'BID', 'trade_volume': 0.01469792, 'acc_trade_volume': 4232.4745714, 'trade_date': '20220311', 'trade_time': '121308', 'trade_timestamp': 1647000788000, 'acc_ask_volume': 2212.29062788, 'acc_bid_volume': 2020.18394352, 'highest_52_week_price': 82700000.0, 'highest_52_week_date': '2021-11-09', 'lowest_52_week_price': 33900000.0, 'lowest_52_week_date': '2021-06-22', 'market_state': 'ACTIVE', 'is_trading_suspended': False, 'delisting_date': None, 'market_warning': 'NONE', 'timestamp': 1647000788163, 'acc_trade_price_24h': 375165973870.6162, 'acc_trade_volume_24h': 7692.03789885, 'stream_type': 'REALTIME'}\n",
      "{'type': 'ticker', 'code': 'KRW-BTC', 'opening_price': 48931000.0, 'high_price': 49941000.0, 'low_price': 47802000.0, 'trade_price': 49610000.0, 'prev_closing_price': 48917000.0, 'acc_trade_price': 206083280087.56735, 'change': 'RISE', 'change_price': 693000.0, 'signed_change_price': 693000.0, 'change_rate': 0.0141668541, 'signed_change_rate': 0.0141668541, 'ask_bid': 'BID', 'trade_volume': 0.5, 'acc_trade_volume': 4232.9745714, 'trade_date': '20220311', 'trade_time': '121308', 'trade_timestamp': 1647000788000, 'acc_ask_volume': 2212.29062788, 'acc_bid_volume': 2020.68394352, 'highest_52_week_price': 82700000.0, 'highest_52_week_date': '2021-11-09', 'lowest_52_week_price': 33900000.0, 'lowest_52_week_date': '2021-06-22', 'market_state': 'ACTIVE', 'is_trading_suspended': False, 'delisting_date': None, 'market_warning': 'NONE', 'timestamp': 1647000788163, 'acc_trade_price_24h': 375165973870.6162, 'acc_trade_volume_24h': 7692.03789885, 'stream_type': 'REALTIME'}\n",
      "{'type': 'ticker', 'code': 'KRW-BTC', 'opening_price': 48931000.0, 'high_price': 49941000.0, 'low_price': 47802000.0, 'trade_price': 49595000.0, 'prev_closing_price': 48917000.0, 'acc_trade_price': 206084096003.18152, 'change': 'RISE', 'change_price': 678000.0, 'signed_change_price': 678000.0, 'change_rate': 0.0138602122, 'signed_change_rate': 0.0138602122, 'ask_bid': 'BID', 'trade_volume': 0.01645157, 'acc_trade_volume': 4232.99102297, 'trade_date': '20220311', 'trade_time': '121308', 'trade_timestamp': 1647000788000, 'acc_ask_volume': 2212.29062788, 'acc_bid_volume': 2020.70039509, 'highest_52_week_price': 82700000.0, 'highest_52_week_date': '2021-11-09', 'lowest_52_week_price': 33900000.0, 'lowest_52_week_date': '2021-06-22', 'market_state': 'ACTIVE', 'is_trading_suspended': False, 'delisting_date': None, 'market_warning': 'NONE', 'timestamp': 1647000788173, 'acc_trade_price_24h': 375165973870.6162, 'acc_trade_volume_24h': 7692.03789885, 'stream_type': 'REALTIME'}\n",
      "{'type': 'ticker', 'code': 'KRW-BTC', 'opening_price': 48931000.0, 'high_price': 49941000.0, 'low_price': 47802000.0, 'trade_price': 49606000.0, 'prev_closing_price': 48917000.0, 'acc_trade_price': 206084473525.17996, 'change': 'RISE', 'change_price': 689000.0, 'signed_change_price': 689000.0, 'change_rate': 0.0140850829, 'signed_change_rate': 0.0140850829, 'ask_bid': 'BID', 'trade_volume': 0.00761041, 'acc_trade_volume': 4232.99863338, 'trade_date': '20220311', 'trade_time': '121308', 'trade_timestamp': 1647000788000, 'acc_ask_volume': 2212.29062788, 'acc_bid_volume': 2020.7080055, 'highest_52_week_price': 82700000.0, 'highest_52_week_date': '2021-11-09', 'lowest_52_week_price': 33900000.0, 'lowest_52_week_date': '2021-06-22', 'market_state': 'ACTIVE', 'is_trading_suspended': False, 'delisting_date': None, 'market_warning': 'NONE', 'timestamp': 1647000788174, 'acc_trade_price_24h': 375165973870.6162, 'acc_trade_volume_24h': 7692.03789885, 'stream_type': 'REALTIME'}\n",
      "{'type': 'ticker', 'code': 'KRW-BTC', 'opening_price': 48931000.0, 'high_price': 49941000.0, 'low_price': 47802000.0, 'trade_price': 49606000.0, 'prev_closing_price': 48917000.0, 'acc_trade_price': 206098788271.057, 'change': 'RISE', 'change_price': 689000.0, 'signed_change_price': 689000.0, 'change_rate': 0.0140850829, 'signed_change_rate': 0.0140850829, 'ask_bid': 'BID', 'trade_volume': 0.28856884, 'acc_trade_volume': 4233.28720222, 'trade_date': '20220311', 'trade_time': '121308', 'trade_timestamp': 1647000788000, 'acc_ask_volume': 2212.29062788, 'acc_bid_volume': 2020.99657434, 'highest_52_week_price': 82700000.0, 'highest_52_week_date': '2021-11-09', 'lowest_52_week_price': 33900000.0, 'lowest_52_week_date': '2021-06-22', 'market_state': 'ACTIVE', 'is_trading_suspended': False, 'delisting_date': None, 'market_warning': 'NONE', 'timestamp': 1647000788174, 'acc_trade_price_24h': 375165973870.6162, 'acc_trade_volume_24h': 7692.03789885, 'stream_type': 'REALTIME'}\n",
      "{'type': 'ticker', 'code': 'KRW-BTC', 'opening_price': 48931000.0, 'high_price': 49941000.0, 'low_price': 47802000.0, 'trade_price': 49606000.0, 'prev_closing_price': 48917000.0, 'acc_trade_price': 206099250100.93277, 'change': 'RISE', 'change_price': 689000.0, 'signed_change_price': 689000.0, 'change_rate': 0.0140850829, 'signed_change_rate': 0.0140850829, 'ask_bid': 'BID', 'trade_volume': 0.00930996, 'acc_trade_volume': 4233.29651218, 'trade_date': '20220311', 'trade_time': '121308', 'trade_timestamp': 1647000788000, 'acc_ask_volume': 2212.29062788, 'acc_bid_volume': 2021.0058843, 'highest_52_week_price': 82700000.0, 'highest_52_week_date': '2021-11-09', 'lowest_52_week_price': 33900000.0, 'lowest_52_week_date': '2021-06-22', 'market_state': 'ACTIVE', 'is_trading_suspended': False, 'delisting_date': None, 'market_warning': 'NONE', 'timestamp': 1647000788175, 'acc_trade_price_24h': 375165973870.6162, 'acc_trade_volume_24h': 7692.03789885, 'stream_type': 'REALTIME'}\n",
      "{'type': 'ticker', 'code': 'KRW-BTC', 'opening_price': 48931000.0, 'high_price': 49941000.0, 'low_price': 47802000.0, 'trade_price': 49625000.0, 'prev_closing_price': 48917000.0, 'acc_trade_price': 206099450062.389, 'change': 'RISE', 'change_price': 708000.0, 'signed_change_price': 708000.0, 'change_rate': 0.0144734959, 'signed_change_rate': 0.0144734959, 'ask_bid': 'BID', 'trade_volume': 0.00402945, 'acc_trade_volume': 4233.30054163, 'trade_date': '20220311', 'trade_time': '121308', 'trade_timestamp': 1647000788000, 'acc_ask_volume': 2212.29062788, 'acc_bid_volume': 2021.00991375, 'highest_52_week_price': 82700000.0, 'highest_52_week_date': '2021-11-09', 'lowest_52_week_price': 33900000.0, 'lowest_52_week_date': '2021-06-22', 'market_state': 'ACTIVE', 'is_trading_suspended': False, 'delisting_date': None, 'market_warning': 'NONE', 'timestamp': 1647000788265, 'acc_trade_price_24h': 375165973870.6162, 'acc_trade_volume_24h': 7692.03789885, 'stream_type': 'REALTIME'}\n",
      "{'type': 'ticker', 'code': 'KRW-BTC', 'opening_price': 48931000.0, 'high_price': 49941000.0, 'low_price': 47802000.0, 'trade_price': 49621000.0, 'prev_closing_price': 48917000.0, 'acc_trade_price': 206099550062.5979, 'change': 'RISE', 'change_price': 704000.0, 'signed_change_price': 704000.0, 'change_rate': 0.0143917248, 'signed_change_rate': 0.0143917248, 'ask_bid': 'BID', 'trade_volume': 0.00201528, 'acc_trade_volume': 4233.30255691, 'trade_date': '20220311', 'trade_time': '121308', 'trade_timestamp': 1647000788000, 'acc_ask_volume': 2212.29062788, 'acc_bid_volume': 2021.01192903, 'highest_52_week_price': 82700000.0, 'highest_52_week_date': '2021-11-09', 'lowest_52_week_price': 33900000.0, 'lowest_52_week_date': '2021-06-22', 'market_state': 'ACTIVE', 'is_trading_suspended': False, 'delisting_date': None, 'market_warning': 'NONE', 'timestamp': 1647000788265, 'acc_trade_price_24h': 375165973870.6162, 'acc_trade_volume_24h': 7692.03789885, 'stream_type': 'REALTIME'}\n"
     ]
    },
    {
     "name": "stdout",
     "output_type": "stream",
     "text": [
      "{'type': 'ticker', 'code': 'KRW-BTC', 'opening_price': 48931000.0, 'high_price': 49941000.0, 'low_price': 47802000.0, 'trade_price': 49612000.0, 'prev_closing_price': 48917000.0, 'acc_trade_price': 206099955527.58255, 'change': 'RISE', 'change_price': 695000.0, 'signed_change_price': 695000.0, 'change_rate': 0.0142077396, 'signed_change_rate': 0.0142077396, 'ask_bid': 'ASK', 'trade_volume': 0.00817272, 'acc_trade_volume': 4233.31072963, 'trade_date': '20220311', 'trade_time': '121309', 'trade_timestamp': 1647000789000, 'acc_ask_volume': 2212.2988006, 'acc_bid_volume': 2021.01192903, 'highest_52_week_price': 82700000.0, 'highest_52_week_date': '2021-11-09', 'lowest_52_week_price': 33900000.0, 'lowest_52_week_date': '2021-06-22', 'market_state': 'ACTIVE', 'is_trading_suspended': False, 'delisting_date': None, 'market_warning': 'NONE', 'timestamp': 1647000788790, 'acc_trade_price_24h': 375165973870.6162, 'acc_trade_volume_24h': 7692.03789885, 'stream_type': 'REALTIME'}\n",
      "{'type': 'ticker', 'code': 'KRW-BTC', 'opening_price': 48931000.0, 'high_price': 49941000.0, 'low_price': 47802000.0, 'trade_price': 49625000.0, 'prev_closing_price': 48917000.0, 'acc_trade_price': 206100455527.24753, 'change': 'RISE', 'change_price': 708000.0, 'signed_change_price': 708000.0, 'change_rate': 0.0144734959, 'signed_change_rate': 0.0144734959, 'ask_bid': 'BID', 'trade_volume': 0.01007556, 'acc_trade_volume': 4233.32080519, 'trade_date': '20220311', 'trade_time': '121309', 'trade_timestamp': 1647000789000, 'acc_ask_volume': 2212.2988006, 'acc_bid_volume': 2021.02200459, 'highest_52_week_price': 82700000.0, 'highest_52_week_date': '2021-11-09', 'lowest_52_week_price': 33900000.0, 'lowest_52_week_date': '2021-06-22', 'market_state': 'ACTIVE', 'is_trading_suspended': False, 'delisting_date': None, 'market_warning': 'NONE', 'timestamp': 1647000788952, 'acc_trade_price_24h': 375165973870.6162, 'acc_trade_volume_24h': 7692.03789885, 'stream_type': 'REALTIME'}\n",
      "{'type': 'ticker', 'code': 'KRW-BTC', 'opening_price': 48931000.0, 'high_price': 49941000.0, 'low_price': 47802000.0, 'trade_price': 49625000.0, 'prev_closing_price': 48917000.0, 'acc_trade_price': 206100931625.03128, 'change': 'RISE', 'change_price': 708000.0, 'signed_change_price': 708000.0, 'change_rate': 0.0144734959, 'signed_change_rate': 0.0144734959, 'ask_bid': 'BID', 'trade_volume': 0.00959391, 'acc_trade_volume': 4233.3303991, 'trade_date': '20220311', 'trade_time': '121310', 'trade_timestamp': 1647000790000, 'acc_ask_volume': 2212.2988006, 'acc_bid_volume': 2021.0315985, 'highest_52_week_price': 82700000.0, 'highest_52_week_date': '2021-11-09', 'lowest_52_week_price': 33900000.0, 'lowest_52_week_date': '2021-06-22', 'market_state': 'ACTIVE', 'is_trading_suspended': False, 'delisting_date': None, 'market_warning': 'NONE', 'timestamp': 1647000789748, 'acc_trade_price_24h': 375165973870.6162, 'acc_trade_volume_24h': 7692.03789885, 'stream_type': 'REALTIME'}\n"
     ]
    },
    {
     "ename": "CancelledError",
     "evalue": "",
     "output_type": "error",
     "traceback": [
      "\u001b[1;31m---------------------------------------------------------------------------\u001b[0m",
      "\u001b[1;31mCancelledError\u001b[0m                            Traceback (most recent call last)",
      "\u001b[1;32m<ipython-input-29-ce3245c27fd9>\u001b[0m in \u001b[0;36masync-def-wrapper\u001b[1;34m()\u001b[0m\n\u001b[0;32m     20\u001b[0m         \u001b[0mdata\u001b[0m \u001b[1;33m=\u001b[0m \u001b[0mjson\u001b[0m\u001b[1;33m.\u001b[0m\u001b[0mloads\u001b[0m\u001b[1;33m(\u001b[0m\u001b[0mdata\u001b[0m\u001b[1;33m)\u001b[0m\u001b[1;33m\u001b[0m\u001b[1;33m\u001b[0m\u001b[0m\n\u001b[0;32m     21\u001b[0m         \u001b[0mprint\u001b[0m\u001b[1;33m(\u001b[0m\u001b[0mdata\u001b[0m\u001b[1;33m)\u001b[0m\u001b[1;33m\u001b[0m\u001b[1;33m\u001b[0m\u001b[0m\n",
      "\u001b[1;32m~\\anaconda3\\lib\\site-packages\\websockets\\legacy\\protocol.py\u001b[0m in \u001b[0;36mrecv\u001b[1;34m(self)\u001b[0m\n\u001b[0;32m    536\u001b[0m                     \u001b[1;33m[\u001b[0m\u001b[0mpop_message_waiter\u001b[0m\u001b[1;33m,\u001b[0m \u001b[0mself\u001b[0m\u001b[1;33m.\u001b[0m\u001b[0mtransfer_data_task\u001b[0m\u001b[1;33m]\u001b[0m\u001b[1;33m,\u001b[0m\u001b[1;33m\u001b[0m\u001b[1;33m\u001b[0m\u001b[0m\n\u001b[0;32m    537\u001b[0m                     \u001b[0mreturn_when\u001b[0m\u001b[1;33m=\u001b[0m\u001b[0masyncio\u001b[0m\u001b[1;33m.\u001b[0m\u001b[0mFIRST_COMPLETED\u001b[0m\u001b[1;33m,\u001b[0m\u001b[1;33m\u001b[0m\u001b[1;33m\u001b[0m\u001b[0m\n\u001b[1;32m--> 538\u001b[1;33m                     \u001b[1;33m**\u001b[0m\u001b[0mloop_if_py_lt_38\u001b[0m\u001b[1;33m(\u001b[0m\u001b[0mself\u001b[0m\u001b[1;33m.\u001b[0m\u001b[0mloop\u001b[0m\u001b[1;33m)\u001b[0m\u001b[1;33m,\u001b[0m\u001b[1;33m\u001b[0m\u001b[1;33m\u001b[0m\u001b[0m\n\u001b[0m\u001b[0;32m    539\u001b[0m                 )\n\u001b[0;32m    540\u001b[0m             \u001b[1;32mfinally\u001b[0m\u001b[1;33m:\u001b[0m\u001b[1;33m\u001b[0m\u001b[1;33m\u001b[0m\u001b[0m\n",
      "\u001b[1;32m~\\anaconda3\\lib\\asyncio\\tasks.py\u001b[0m in \u001b[0;36mwait\u001b[1;34m(fs, loop, timeout, return_when)\u001b[0m\n\u001b[0;32m    387\u001b[0m     \u001b[0mfs\u001b[0m \u001b[1;33m=\u001b[0m \u001b[1;33m{\u001b[0m\u001b[0mensure_future\u001b[0m\u001b[1;33m(\u001b[0m\u001b[0mf\u001b[0m\u001b[1;33m,\u001b[0m \u001b[0mloop\u001b[0m\u001b[1;33m=\u001b[0m\u001b[0mloop\u001b[0m\u001b[1;33m)\u001b[0m \u001b[1;32mfor\u001b[0m \u001b[0mf\u001b[0m \u001b[1;32min\u001b[0m \u001b[0mset\u001b[0m\u001b[1;33m(\u001b[0m\u001b[0mfs\u001b[0m\u001b[1;33m)\u001b[0m\u001b[1;33m}\u001b[0m\u001b[1;33m\u001b[0m\u001b[1;33m\u001b[0m\u001b[0m\n\u001b[0;32m    388\u001b[0m \u001b[1;33m\u001b[0m\u001b[0m\n\u001b[1;32m--> 389\u001b[1;33m     \u001b[1;32mreturn\u001b[0m \u001b[1;32mawait\u001b[0m \u001b[0m_wait\u001b[0m\u001b[1;33m(\u001b[0m\u001b[0mfs\u001b[0m\u001b[1;33m,\u001b[0m \u001b[0mtimeout\u001b[0m\u001b[1;33m,\u001b[0m \u001b[0mreturn_when\u001b[0m\u001b[1;33m,\u001b[0m \u001b[0mloop\u001b[0m\u001b[1;33m)\u001b[0m\u001b[1;33m\u001b[0m\u001b[1;33m\u001b[0m\u001b[0m\n\u001b[0m\u001b[0;32m    390\u001b[0m \u001b[1;33m\u001b[0m\u001b[0m\n\u001b[0;32m    391\u001b[0m \u001b[1;33m\u001b[0m\u001b[0m\n",
      "\u001b[1;32m~\\anaconda3\\lib\\asyncio\\tasks.py\u001b[0m in \u001b[0;36m_wait\u001b[1;34m(fs, timeout, return_when, loop)\u001b[0m\n\u001b[0;32m    480\u001b[0m \u001b[1;33m\u001b[0m\u001b[0m\n\u001b[0;32m    481\u001b[0m     \u001b[1;32mtry\u001b[0m\u001b[1;33m:\u001b[0m\u001b[1;33m\u001b[0m\u001b[1;33m\u001b[0m\u001b[0m\n\u001b[1;32m--> 482\u001b[1;33m         \u001b[1;32mawait\u001b[0m \u001b[0mwaiter\u001b[0m\u001b[1;33m\u001b[0m\u001b[1;33m\u001b[0m\u001b[0m\n\u001b[0m\u001b[0;32m    483\u001b[0m     \u001b[1;32mfinally\u001b[0m\u001b[1;33m:\u001b[0m\u001b[1;33m\u001b[0m\u001b[1;33m\u001b[0m\u001b[0m\n\u001b[0;32m    484\u001b[0m         \u001b[1;32mif\u001b[0m \u001b[0mtimeout_handle\u001b[0m \u001b[1;32mis\u001b[0m \u001b[1;32mnot\u001b[0m \u001b[1;32mNone\u001b[0m\u001b[1;33m:\u001b[0m\u001b[1;33m\u001b[0m\u001b[1;33m\u001b[0m\u001b[0m\n",
      "\u001b[1;31mCancelledError\u001b[0m: "
     ]
    }
   ],
   "source": [
    "uri = 'wss://api.upbit.com/websocket/v1'\n",
    "    \n",
    "async with websockets.connect(uri) as websocket:\n",
    "    s_fmt = [{\"ticket\":\"test\"},{\"type\":\"ticker\",\"codes\":[\"KRW-BTC\"]}]\n",
    "    subscribe_fmt = [\n",
    "        {\"ticket\": \"sample\"},\n",
    "        {\n",
    "            \"type\":\"ticker\", \n",
    "            \"codes\": [\"KRW_BTC\", \"KRW_ETH\"], \n",
    "            \"isOnlySnapshot\": True\n",
    "            #\"isOnlyRealtime\": True\n",
    "        }\n",
    "        #, {\"format\": \"SIMPLE\"}\n",
    "    ]\n",
    "    subscribe_data = json.dumps(s_fmt)\n",
    "    await websocket.send(subscribe_data)\n",
    "    \n",
    "    while True:\n",
    "        data = await websocket.recv()\n",
    "        data = json.loads(data)\n",
    "        print(data)"
   ]
  },
  {
   "cell_type": "code",
   "execution_count": 21,
   "metadata": {},
   "outputs": [
    {
     "name": "stderr",
     "output_type": "stream",
     "text": [
      "'telsocket'은(는) 내부 또는 외부 명령, 실행할 수 있는 프로그램, 또는\n",
      "배치 파일이 아닙니다.\n"
     ]
    }
   ],
   "source": [
    "!telsocket -url wss://api.upbit.com/websocket/v1"
   ]
  },
  {
   "cell_type": "code",
   "execution_count": null,
   "metadata": {},
   "outputs": [],
   "source": []
  }
 ],
 "metadata": {
  "kernelspec": {
   "display_name": "Python 3",
   "language": "python",
   "name": "python3"
  },
  "language_info": {
   "codemirror_mode": {
    "name": "ipython",
    "version": 3
   },
   "file_extension": ".py",
   "mimetype": "text/x-python",
   "name": "python",
   "nbconvert_exporter": "python",
   "pygments_lexer": "ipython3",
   "version": "3.7.6"
  }
 },
 "nbformat": 4,
 "nbformat_minor": 4
}
