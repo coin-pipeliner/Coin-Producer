{
 "cells": [
  {
   "cell_type": "code",
   "execution_count": 2,
   "metadata": {},
   "outputs": [],
   "source": [
    "import websockets\n",
    "import asyncio\n",
    "import json"
   ]
  },
  {
   "cell_type": "code",
   "execution_count": 3,
   "metadata": {},
   "outputs": [],
   "source": [
    "async def bithumb_ws_client():\n",
    "    uri = 'wss://pubwss.bithumb.com/pub/ws'\n",
    "    \n",
    "    async with websockets.connect(uri) as websocket:\n",
    "        greeting = await websocket.recv()\n",
    "        print(greeting)\n",
    "\n",
    "async def main():\n",
    "    await bithumb_ws_client()"
   ]
  },
  {
   "cell_type": "code",
   "execution_count": 4,
   "metadata": {},
   "outputs": [
    {
     "name": "stdout",
     "output_type": "stream",
     "text": [
      "{\"status\":\"0000\",\"resmsg\":\"Connected Successfully\"}\n",
      "{'status': '0000', 'resmsg': 'Filter Registered Successfully'}\n",
      "{'type': 'ticker', 'content': {'tickType': '1H', 'date': '20220322', 'time': '000942', 'openPrice': '50107000', 'closePrice': '50085000', 'lowPrice': '49972000', 'highPrice': '50226000', 'value': '7000606620.77643', 'volume': '139.76840513', 'sellVolume': '53.05277895', 'buyVolume': '86.71562618', 'prevClosePrice': '50162000', 'chgRate': '-0.04', 'chgAmt': '-22000', 'volumePower': '163.45', 'symbol': 'BTC_KRW'}}\n",
      "{'type': 'ticker', 'content': {'tickType': '1H', 'date': '20220322', 'time': '000943', 'openPrice': '50107000', 'closePrice': '50085000', 'lowPrice': '49972000', 'highPrice': '50226000', 'value': '7000506406.77643', 'volume': '139.76640513', 'sellVolume': '53.05277895', 'buyVolume': '86.71362618', 'prevClosePrice': '50162000', 'chgRate': '-0.04', 'chgAmt': '-22000', 'volumePower': '163.45', 'symbol': 'BTC_KRW'}}\n",
      "{'type': 'ticker', 'content': {'tickType': '1H', 'date': '20220322', 'time': '000944', 'openPrice': '50079000', 'closePrice': '50085000', 'lowPrice': '49972000', 'highPrice': '50226000', 'value': '6998031576.97643', 'volume': '139.71700513', 'sellVolume': '53.02997895', 'buyVolume': '86.68702618', 'prevClosePrice': '50162000', 'chgRate': '0.01', 'chgAmt': '6000', 'volumePower': '163.47', 'symbol': 'BTC_KRW'}}\n",
      "{'type': 'ticker', 'content': {'tickType': '1H', 'date': '20220322', 'time': '000945', 'openPrice': '50077000', 'closePrice': '50085000', 'lowPrice': '49972000', 'highPrice': '50226000', 'value': '6986664051.17643', 'volume': '139.49000513', 'sellVolume': '53.00657895', 'buyVolume': '86.48342618', 'prevClosePrice': '50162000', 'chgRate': '0.02', 'chgAmt': '8000', 'volumePower': '163.16', 'symbol': 'BTC_KRW'}}\n"
     ]
    },
    {
     "ename": "CancelledError",
     "evalue": "",
     "output_type": "error",
     "traceback": [
      "\u001b[0;31m---------------------------------------------------------------------------\u001b[0m",
      "\u001b[0;31mCancelledError\u001b[0m                            Traceback (most recent call last)",
      "Input \u001b[0;32mIn [4]\u001b[0m, in \u001b[0;36m<module>\u001b[0;34m\u001b[0m\n\u001b[1;32m     13\u001b[0m \u001b[38;5;28;01mawait\u001b[39;00m websocket\u001b[38;5;241m.\u001b[39msend(subscribe_data)\n\u001b[1;32m     15\u001b[0m \u001b[38;5;28;01mwhile\u001b[39;00m \u001b[38;5;28;01mTrue\u001b[39;00m:\n\u001b[0;32m---> 16\u001b[0m     data \u001b[38;5;241m=\u001b[39m \u001b[38;5;28;01mawait\u001b[39;00m websocket\u001b[38;5;241m.\u001b[39mrecv()\n\u001b[1;32m     17\u001b[0m     data \u001b[38;5;241m=\u001b[39m json\u001b[38;5;241m.\u001b[39mloads(data)\n\u001b[1;32m     18\u001b[0m     \u001b[38;5;28mprint\u001b[39m(data)\n",
      "File \u001b[0;32m/usr/local/lib/python3.9/site-packages/websockets/legacy/protocol.py:535\u001b[0m, in \u001b[0;36mWebSocketCommonProtocol.recv\u001b[0;34m(self)\u001b[0m\n\u001b[1;32m    531\u001b[0m \u001b[38;5;28mself\u001b[39m\u001b[38;5;241m.\u001b[39m_pop_message_waiter \u001b[38;5;241m=\u001b[39m pop_message_waiter\n\u001b[1;32m    532\u001b[0m \u001b[38;5;28;01mtry\u001b[39;00m:\n\u001b[1;32m    533\u001b[0m     \u001b[38;5;66;03m# If asyncio.wait() is canceled, it doesn't cancel\u001b[39;00m\n\u001b[1;32m    534\u001b[0m     \u001b[38;5;66;03m# pop_message_waiter and self.transfer_data_task.\u001b[39;00m\n\u001b[0;32m--> 535\u001b[0m     \u001b[38;5;28;01mawait\u001b[39;00m asyncio\u001b[38;5;241m.\u001b[39mwait(\n\u001b[1;32m    536\u001b[0m         [pop_message_waiter, \u001b[38;5;28mself\u001b[39m\u001b[38;5;241m.\u001b[39mtransfer_data_task],\n\u001b[1;32m    537\u001b[0m         return_when\u001b[38;5;241m=\u001b[39masyncio\u001b[38;5;241m.\u001b[39mFIRST_COMPLETED,\n\u001b[1;32m    538\u001b[0m         \u001b[38;5;241m*\u001b[39m\u001b[38;5;241m*\u001b[39mloop_if_py_lt_38(\u001b[38;5;28mself\u001b[39m\u001b[38;5;241m.\u001b[39mloop),\n\u001b[1;32m    539\u001b[0m     )\n\u001b[1;32m    540\u001b[0m \u001b[38;5;28;01mfinally\u001b[39;00m:\n\u001b[1;32m    541\u001b[0m     \u001b[38;5;28mself\u001b[39m\u001b[38;5;241m.\u001b[39m_pop_message_waiter \u001b[38;5;241m=\u001b[39m \u001b[38;5;28;01mNone\u001b[39;00m\n",
      "File \u001b[0;32m/usr/local/Cellar/python@3.9/3.9.10/Frameworks/Python.framework/Versions/3.9/lib/python3.9/asyncio/tasks.py:413\u001b[0m, in \u001b[0;36mwait\u001b[0;34m(fs, loop, timeout, return_when)\u001b[0m\n\u001b[1;32m    406\u001b[0m     warnings\u001b[38;5;241m.\u001b[39mwarn(\u001b[38;5;124m\"\u001b[39m\u001b[38;5;124mThe explicit passing of coroutine objects to \u001b[39m\u001b[38;5;124m\"\u001b[39m\n\u001b[1;32m    407\u001b[0m                   \u001b[38;5;124m\"\u001b[39m\u001b[38;5;124masyncio.wait() is deprecated since Python 3.8, and \u001b[39m\u001b[38;5;124m\"\u001b[39m\n\u001b[1;32m    408\u001b[0m                   \u001b[38;5;124m\"\u001b[39m\u001b[38;5;124mscheduled for removal in Python 3.11.\u001b[39m\u001b[38;5;124m\"\u001b[39m,\n\u001b[1;32m    409\u001b[0m                   \u001b[38;5;167;01mDeprecationWarning\u001b[39;00m, stacklevel\u001b[38;5;241m=\u001b[39m\u001b[38;5;241m2\u001b[39m)\n\u001b[1;32m    411\u001b[0m fs \u001b[38;5;241m=\u001b[39m {ensure_future(f, loop\u001b[38;5;241m=\u001b[39mloop) \u001b[38;5;28;01mfor\u001b[39;00m f \u001b[38;5;129;01min\u001b[39;00m fs}\n\u001b[0;32m--> 413\u001b[0m \u001b[38;5;28;01mreturn\u001b[39;00m \u001b[38;5;28;01mawait\u001b[39;00m _wait(fs, timeout, return_when, loop)\n",
      "File \u001b[0;32m/usr/local/Cellar/python@3.9/3.9.10/Frameworks/Python.framework/Versions/3.9/lib/python3.9/asyncio/tasks.py:525\u001b[0m, in \u001b[0;36m_wait\u001b[0;34m(fs, timeout, return_when, loop)\u001b[0m\n\u001b[1;32m    522\u001b[0m     f\u001b[38;5;241m.\u001b[39madd_done_callback(_on_completion)\n\u001b[1;32m    524\u001b[0m \u001b[38;5;28;01mtry\u001b[39;00m:\n\u001b[0;32m--> 525\u001b[0m     \u001b[38;5;28;01mawait\u001b[39;00m waiter\n\u001b[1;32m    526\u001b[0m \u001b[38;5;28;01mfinally\u001b[39;00m:\n\u001b[1;32m    527\u001b[0m     \u001b[38;5;28;01mif\u001b[39;00m timeout_handle \u001b[38;5;129;01mis\u001b[39;00m \u001b[38;5;129;01mnot\u001b[39;00m \u001b[38;5;28;01mNone\u001b[39;00m:\n",
      "\u001b[0;31mCancelledError\u001b[0m: "
     ]
    }
   ],
   "source": [
    "uri = 'wss://pubwss.bithumb.com/pub/ws'\n",
    "    \n",
    "async with websockets.connect(uri) as websocket:\n",
    "    greeting = await websocket.recv()\n",
    "    print(greeting)\n",
    "    \n",
    "    subscribe_fmt = {\n",
    "            \"type\":\"ticker\", \n",
    "            \"symbols\": [\"BTC_KRW\"], \n",
    "            \"tickTypes\": [\"1H\"]\n",
    "    }\n",
    "    subscribe_data = json.dumps(subscribe_fmt)\n",
    "    await websocket.send(subscribe_data)\n",
    "    \n",
    "    while True:\n",
    "        data = await websocket.recv()\n",
    "        data = json.loads(data)\n",
    "        print(data)"
   ]
  },
  {
   "cell_type": "code",
   "execution_count": 5,
   "metadata": {},
   "outputs": [
    {
     "name": "stdout",
     "output_type": "stream",
     "text": [
      "{\"status\":\"0000\",\"resmsg\":\"Connected Successfully\"}\n",
      "{'status': '0000', 'resmsg': 'Filter Registered Successfully'}\n",
      "{'type': 'transaction', 'content': {'list': [{'buySellGb': '1', 'contPrice': '50060000', 'contQty': '0.0166', 'contAmt': '830996.0000', 'contDtm': '2022-03-22 00:10:02.664960', 'updn': 'dn', 'symbol': 'BTC_KRW'}]}}\n",
      "{'type': 'transaction', 'content': {'list': [{'buySellGb': '1', 'contPrice': '50060000', 'contQty': '0.0251', 'contAmt': '1256506.0000', 'contDtm': '2022-03-22 00:10:05.427794', 'updn': 'dn', 'symbol': 'BTC_KRW'}]}}\n",
      "{'type': 'transaction', 'content': {'list': [{'buySellGb': '2', 'contPrice': '50069000', 'contQty': '0.1287', 'contAmt': '6443880.3000', 'contDtm': '2022-03-22 00:10:05.669531', 'updn': 'up', 'symbol': 'BTC_KRW'}]}}\n"
     ]
    },
    {
     "ename": "CancelledError",
     "evalue": "",
     "output_type": "error",
     "traceback": [
      "\u001b[0;31m---------------------------------------------------------------------------\u001b[0m",
      "\u001b[0;31mCancelledError\u001b[0m                            Traceback (most recent call last)",
      "Input \u001b[0;32mIn [5]\u001b[0m, in \u001b[0;36m<module>\u001b[0;34m\u001b[0m\n\u001b[1;32m     13\u001b[0m \u001b[38;5;28;01mawait\u001b[39;00m websocket\u001b[38;5;241m.\u001b[39msend(subscribe_data)\n\u001b[1;32m     15\u001b[0m \u001b[38;5;28;01mwhile\u001b[39;00m \u001b[38;5;28;01mTrue\u001b[39;00m:\n\u001b[0;32m---> 16\u001b[0m     data \u001b[38;5;241m=\u001b[39m \u001b[38;5;28;01mawait\u001b[39;00m websocket\u001b[38;5;241m.\u001b[39mrecv()\n\u001b[1;32m     17\u001b[0m     data \u001b[38;5;241m=\u001b[39m json\u001b[38;5;241m.\u001b[39mloads(data)\n\u001b[1;32m     18\u001b[0m     \u001b[38;5;28mprint\u001b[39m(data)\n",
      "File \u001b[0;32m/usr/local/lib/python3.9/site-packages/websockets/legacy/protocol.py:535\u001b[0m, in \u001b[0;36mWebSocketCommonProtocol.recv\u001b[0;34m(self)\u001b[0m\n\u001b[1;32m    531\u001b[0m \u001b[38;5;28mself\u001b[39m\u001b[38;5;241m.\u001b[39m_pop_message_waiter \u001b[38;5;241m=\u001b[39m pop_message_waiter\n\u001b[1;32m    532\u001b[0m \u001b[38;5;28;01mtry\u001b[39;00m:\n\u001b[1;32m    533\u001b[0m     \u001b[38;5;66;03m# If asyncio.wait() is canceled, it doesn't cancel\u001b[39;00m\n\u001b[1;32m    534\u001b[0m     \u001b[38;5;66;03m# pop_message_waiter and self.transfer_data_task.\u001b[39;00m\n\u001b[0;32m--> 535\u001b[0m     \u001b[38;5;28;01mawait\u001b[39;00m asyncio\u001b[38;5;241m.\u001b[39mwait(\n\u001b[1;32m    536\u001b[0m         [pop_message_waiter, \u001b[38;5;28mself\u001b[39m\u001b[38;5;241m.\u001b[39mtransfer_data_task],\n\u001b[1;32m    537\u001b[0m         return_when\u001b[38;5;241m=\u001b[39masyncio\u001b[38;5;241m.\u001b[39mFIRST_COMPLETED,\n\u001b[1;32m    538\u001b[0m         \u001b[38;5;241m*\u001b[39m\u001b[38;5;241m*\u001b[39mloop_if_py_lt_38(\u001b[38;5;28mself\u001b[39m\u001b[38;5;241m.\u001b[39mloop),\n\u001b[1;32m    539\u001b[0m     )\n\u001b[1;32m    540\u001b[0m \u001b[38;5;28;01mfinally\u001b[39;00m:\n\u001b[1;32m    541\u001b[0m     \u001b[38;5;28mself\u001b[39m\u001b[38;5;241m.\u001b[39m_pop_message_waiter \u001b[38;5;241m=\u001b[39m \u001b[38;5;28;01mNone\u001b[39;00m\n",
      "File \u001b[0;32m/usr/local/Cellar/python@3.9/3.9.10/Frameworks/Python.framework/Versions/3.9/lib/python3.9/asyncio/tasks.py:413\u001b[0m, in \u001b[0;36mwait\u001b[0;34m(fs, loop, timeout, return_when)\u001b[0m\n\u001b[1;32m    406\u001b[0m     warnings\u001b[38;5;241m.\u001b[39mwarn(\u001b[38;5;124m\"\u001b[39m\u001b[38;5;124mThe explicit passing of coroutine objects to \u001b[39m\u001b[38;5;124m\"\u001b[39m\n\u001b[1;32m    407\u001b[0m                   \u001b[38;5;124m\"\u001b[39m\u001b[38;5;124masyncio.wait() is deprecated since Python 3.8, and \u001b[39m\u001b[38;5;124m\"\u001b[39m\n\u001b[1;32m    408\u001b[0m                   \u001b[38;5;124m\"\u001b[39m\u001b[38;5;124mscheduled for removal in Python 3.11.\u001b[39m\u001b[38;5;124m\"\u001b[39m,\n\u001b[1;32m    409\u001b[0m                   \u001b[38;5;167;01mDeprecationWarning\u001b[39;00m, stacklevel\u001b[38;5;241m=\u001b[39m\u001b[38;5;241m2\u001b[39m)\n\u001b[1;32m    411\u001b[0m fs \u001b[38;5;241m=\u001b[39m {ensure_future(f, loop\u001b[38;5;241m=\u001b[39mloop) \u001b[38;5;28;01mfor\u001b[39;00m f \u001b[38;5;129;01min\u001b[39;00m fs}\n\u001b[0;32m--> 413\u001b[0m \u001b[38;5;28;01mreturn\u001b[39;00m \u001b[38;5;28;01mawait\u001b[39;00m _wait(fs, timeout, return_when, loop)\n",
      "File \u001b[0;32m/usr/local/Cellar/python@3.9/3.9.10/Frameworks/Python.framework/Versions/3.9/lib/python3.9/asyncio/tasks.py:525\u001b[0m, in \u001b[0;36m_wait\u001b[0;34m(fs, timeout, return_when, loop)\u001b[0m\n\u001b[1;32m    522\u001b[0m     f\u001b[38;5;241m.\u001b[39madd_done_callback(_on_completion)\n\u001b[1;32m    524\u001b[0m \u001b[38;5;28;01mtry\u001b[39;00m:\n\u001b[0;32m--> 525\u001b[0m     \u001b[38;5;28;01mawait\u001b[39;00m waiter\n\u001b[1;32m    526\u001b[0m \u001b[38;5;28;01mfinally\u001b[39;00m:\n\u001b[1;32m    527\u001b[0m     \u001b[38;5;28;01mif\u001b[39;00m timeout_handle \u001b[38;5;129;01mis\u001b[39;00m \u001b[38;5;129;01mnot\u001b[39;00m \u001b[38;5;28;01mNone\u001b[39;00m:\n",
      "\u001b[0;31mCancelledError\u001b[0m: "
     ]
    }
   ],
   "source": [
    "uri = 'wss://pubwss.bithumb.com/pub/ws'\n",
    "    \n",
    "async with websockets.connect(uri) as websocket:\n",
    "    greeting = await websocket.recv()\n",
    "    print(greeting)\n",
    "    \n",
    "    subscribe_fmt = {\n",
    "            \"type\":\"transaction\", \n",
    "            \"symbols\": [\"BTC_KRW\"], \n",
    "            \"tickTypes\": [\"1H\"]\n",
    "    }\n",
    "    subscribe_data = json.dumps(subscribe_fmt)\n",
    "    await websocket.send(subscribe_data)\n",
    "    \n",
    "    while True:\n",
    "        data = await websocket.recv()\n",
    "        data = json.loads(data)\n",
    "        print(data)"
   ]
  },
  {
   "cell_type": "code",
   "execution_count": 29,
   "metadata": {
    "scrolled": false
   },
   "outputs": [
    {
     "name": "stdout",
     "output_type": "stream",
     "text": [
      "{'type': 'ticker', 'code': 'KRW-BTC', 'opening_price': 48931000.0, 'high_price': 49941000.0, 'low_price': 47802000.0, 'trade_price': 49606000.0, 'prev_closing_price': 48917000.0, 'acc_trade_price': 206057547543.75616, 'change': 'RISE', 'change_price': 689000.0, 'signed_change_price': 689000.0, 'change_rate': 0.0140850829, 'signed_change_rate': 0.0140850829, 'ask_bid': 'BID', 'trade_volume': 0.004, 'acc_trade_volume': 4232.45587348, 'trade_date': '20220311', 'trade_time': '121307', 'trade_timestamp': 1647000787000, 'acc_ask_volume': 2212.29062788, 'acc_bid_volume': 2020.1652456, 'highest_52_week_price': 82700000.0, 'highest_52_week_date': '2021-11-09', 'lowest_52_week_price': 33900000.0, 'lowest_52_week_date': '2021-06-22', 'market_state': 'ACTIVE', 'is_trading_suspended': False, 'delisting_date': None, 'market_warning': 'NONE', 'timestamp': 1647000787015, 'acc_trade_price_24h': 375165973870.6162, 'acc_trade_volume_24h': 7692.03789885, 'stream_type': 'SNAPSHOT'}\n",
      "{'type': 'ticker', 'code': 'KRW-BTC', 'opening_price': 48931000.0, 'high_price': 49941000.0, 'low_price': 47802000.0, 'trade_price': 49595000.0, 'prev_closing_price': 48917000.0, 'acc_trade_price': 206057745923.75616, 'change': 'RISE', 'change_price': 678000.0, 'signed_change_price': 678000.0, 'change_rate': 0.0138602122, 'signed_change_rate': 0.0138602122, 'ask_bid': 'BID', 'trade_volume': 0.004, 'acc_trade_volume': 4232.45987348, 'trade_date': '20220311', 'trade_time': '121308', 'trade_timestamp': 1647000788000, 'acc_ask_volume': 2212.29062788, 'acc_bid_volume': 2020.1692456, 'highest_52_week_price': 82700000.0, 'highest_52_week_date': '2021-11-09', 'lowest_52_week_price': 33900000.0, 'lowest_52_week_date': '2021-06-22', 'market_state': 'ACTIVE', 'is_trading_suspended': False, 'delisting_date': None, 'market_warning': 'NONE', 'timestamp': 1647000788009, 'acc_trade_price_24h': 375165973870.6162, 'acc_trade_volume_24h': 7692.03789885, 'stream_type': 'REALTIME'}\n",
      "{'type': 'ticker', 'code': 'KRW-BTC', 'opening_price': 48931000.0, 'high_price': 49941000.0, 'low_price': 47802000.0, 'trade_price': 49610000.0, 'prev_closing_price': 48917000.0, 'acc_trade_price': 206058475087.56735, 'change': 'RISE', 'change_price': 693000.0, 'signed_change_price': 693000.0, 'change_rate': 0.0141668541, 'signed_change_rate': 0.0141668541, 'ask_bid': 'BID', 'trade_volume': 0.01469792, 'acc_trade_volume': 4232.4745714, 'trade_date': '20220311', 'trade_time': '121308', 'trade_timestamp': 1647000788000, 'acc_ask_volume': 2212.29062788, 'acc_bid_volume': 2020.18394352, 'highest_52_week_price': 82700000.0, 'highest_52_week_date': '2021-11-09', 'lowest_52_week_price': 33900000.0, 'lowest_52_week_date': '2021-06-22', 'market_state': 'ACTIVE', 'is_trading_suspended': False, 'delisting_date': None, 'market_warning': 'NONE', 'timestamp': 1647000788163, 'acc_trade_price_24h': 375165973870.6162, 'acc_trade_volume_24h': 7692.03789885, 'stream_type': 'REALTIME'}\n",
      "{'type': 'ticker', 'code': 'KRW-BTC', 'opening_price': 48931000.0, 'high_price': 49941000.0, 'low_price': 47802000.0, 'trade_price': 49610000.0, 'prev_closing_price': 48917000.0, 'acc_trade_price': 206083280087.56735, 'change': 'RISE', 'change_price': 693000.0, 'signed_change_price': 693000.0, 'change_rate': 0.0141668541, 'signed_change_rate': 0.0141668541, 'ask_bid': 'BID', 'trade_volume': 0.5, 'acc_trade_volume': 4232.9745714, 'trade_date': '20220311', 'trade_time': '121308', 'trade_timestamp': 1647000788000, 'acc_ask_volume': 2212.29062788, 'acc_bid_volume': 2020.68394352, 'highest_52_week_price': 82700000.0, 'highest_52_week_date': '2021-11-09', 'lowest_52_week_price': 33900000.0, 'lowest_52_week_date': '2021-06-22', 'market_state': 'ACTIVE', 'is_trading_suspended': False, 'delisting_date': None, 'market_warning': 'NONE', 'timestamp': 1647000788163, 'acc_trade_price_24h': 375165973870.6162, 'acc_trade_volume_24h': 7692.03789885, 'stream_type': 'REALTIME'}\n",
      "{'type': 'ticker', 'code': 'KRW-BTC', 'opening_price': 48931000.0, 'high_price': 49941000.0, 'low_price': 47802000.0, 'trade_price': 49595000.0, 'prev_closing_price': 48917000.0, 'acc_trade_price': 206084096003.18152, 'change': 'RISE', 'change_price': 678000.0, 'signed_change_price': 678000.0, 'change_rate': 0.0138602122, 'signed_change_rate': 0.0138602122, 'ask_bid': 'BID', 'trade_volume': 0.01645157, 'acc_trade_volume': 4232.99102297, 'trade_date': '20220311', 'trade_time': '121308', 'trade_timestamp': 1647000788000, 'acc_ask_volume': 2212.29062788, 'acc_bid_volume': 2020.70039509, 'highest_52_week_price': 82700000.0, 'highest_52_week_date': '2021-11-09', 'lowest_52_week_price': 33900000.0, 'lowest_52_week_date': '2021-06-22', 'market_state': 'ACTIVE', 'is_trading_suspended': False, 'delisting_date': None, 'market_warning': 'NONE', 'timestamp': 1647000788173, 'acc_trade_price_24h': 375165973870.6162, 'acc_trade_volume_24h': 7692.03789885, 'stream_type': 'REALTIME'}\n",
      "{'type': 'ticker', 'code': 'KRW-BTC', 'opening_price': 48931000.0, 'high_price': 49941000.0, 'low_price': 47802000.0, 'trade_price': 49606000.0, 'prev_closing_price': 48917000.0, 'acc_trade_price': 206084473525.17996, 'change': 'RISE', 'change_price': 689000.0, 'signed_change_price': 689000.0, 'change_rate': 0.0140850829, 'signed_change_rate': 0.0140850829, 'ask_bid': 'BID', 'trade_volume': 0.00761041, 'acc_trade_volume': 4232.99863338, 'trade_date': '20220311', 'trade_time': '121308', 'trade_timestamp': 1647000788000, 'acc_ask_volume': 2212.29062788, 'acc_bid_volume': 2020.7080055, 'highest_52_week_price': 82700000.0, 'highest_52_week_date': '2021-11-09', 'lowest_52_week_price': 33900000.0, 'lowest_52_week_date': '2021-06-22', 'market_state': 'ACTIVE', 'is_trading_suspended': False, 'delisting_date': None, 'market_warning': 'NONE', 'timestamp': 1647000788174, 'acc_trade_price_24h': 375165973870.6162, 'acc_trade_volume_24h': 7692.03789885, 'stream_type': 'REALTIME'}\n",
      "{'type': 'ticker', 'code': 'KRW-BTC', 'opening_price': 48931000.0, 'high_price': 49941000.0, 'low_price': 47802000.0, 'trade_price': 49606000.0, 'prev_closing_price': 48917000.0, 'acc_trade_price': 206098788271.057, 'change': 'RISE', 'change_price': 689000.0, 'signed_change_price': 689000.0, 'change_rate': 0.0140850829, 'signed_change_rate': 0.0140850829, 'ask_bid': 'BID', 'trade_volume': 0.28856884, 'acc_trade_volume': 4233.28720222, 'trade_date': '20220311', 'trade_time': '121308', 'trade_timestamp': 1647000788000, 'acc_ask_volume': 2212.29062788, 'acc_bid_volume': 2020.99657434, 'highest_52_week_price': 82700000.0, 'highest_52_week_date': '2021-11-09', 'lowest_52_week_price': 33900000.0, 'lowest_52_week_date': '2021-06-22', 'market_state': 'ACTIVE', 'is_trading_suspended': False, 'delisting_date': None, 'market_warning': 'NONE', 'timestamp': 1647000788174, 'acc_trade_price_24h': 375165973870.6162, 'acc_trade_volume_24h': 7692.03789885, 'stream_type': 'REALTIME'}\n",
      "{'type': 'ticker', 'code': 'KRW-BTC', 'opening_price': 48931000.0, 'high_price': 49941000.0, 'low_price': 47802000.0, 'trade_price': 49606000.0, 'prev_closing_price': 48917000.0, 'acc_trade_price': 206099250100.93277, 'change': 'RISE', 'change_price': 689000.0, 'signed_change_price': 689000.0, 'change_rate': 0.0140850829, 'signed_change_rate': 0.0140850829, 'ask_bid': 'BID', 'trade_volume': 0.00930996, 'acc_trade_volume': 4233.29651218, 'trade_date': '20220311', 'trade_time': '121308', 'trade_timestamp': 1647000788000, 'acc_ask_volume': 2212.29062788, 'acc_bid_volume': 2021.0058843, 'highest_52_week_price': 82700000.0, 'highest_52_week_date': '2021-11-09', 'lowest_52_week_price': 33900000.0, 'lowest_52_week_date': '2021-06-22', 'market_state': 'ACTIVE', 'is_trading_suspended': False, 'delisting_date': None, 'market_warning': 'NONE', 'timestamp': 1647000788175, 'acc_trade_price_24h': 375165973870.6162, 'acc_trade_volume_24h': 7692.03789885, 'stream_type': 'REALTIME'}\n",
      "{'type': 'ticker', 'code': 'KRW-BTC', 'opening_price': 48931000.0, 'high_price': 49941000.0, 'low_price': 47802000.0, 'trade_price': 49625000.0, 'prev_closing_price': 48917000.0, 'acc_trade_price': 206099450062.389, 'change': 'RISE', 'change_price': 708000.0, 'signed_change_price': 708000.0, 'change_rate': 0.0144734959, 'signed_change_rate': 0.0144734959, 'ask_bid': 'BID', 'trade_volume': 0.00402945, 'acc_trade_volume': 4233.30054163, 'trade_date': '20220311', 'trade_time': '121308', 'trade_timestamp': 1647000788000, 'acc_ask_volume': 2212.29062788, 'acc_bid_volume': 2021.00991375, 'highest_52_week_price': 82700000.0, 'highest_52_week_date': '2021-11-09', 'lowest_52_week_price': 33900000.0, 'lowest_52_week_date': '2021-06-22', 'market_state': 'ACTIVE', 'is_trading_suspended': False, 'delisting_date': None, 'market_warning': 'NONE', 'timestamp': 1647000788265, 'acc_trade_price_24h': 375165973870.6162, 'acc_trade_volume_24h': 7692.03789885, 'stream_type': 'REALTIME'}\n",
      "{'type': 'ticker', 'code': 'KRW-BTC', 'opening_price': 48931000.0, 'high_price': 49941000.0, 'low_price': 47802000.0, 'trade_price': 49621000.0, 'prev_closing_price': 48917000.0, 'acc_trade_price': 206099550062.5979, 'change': 'RISE', 'change_price': 704000.0, 'signed_change_price': 704000.0, 'change_rate': 0.0143917248, 'signed_change_rate': 0.0143917248, 'ask_bid': 'BID', 'trade_volume': 0.00201528, 'acc_trade_volume': 4233.30255691, 'trade_date': '20220311', 'trade_time': '121308', 'trade_timestamp': 1647000788000, 'acc_ask_volume': 2212.29062788, 'acc_bid_volume': 2021.01192903, 'highest_52_week_price': 82700000.0, 'highest_52_week_date': '2021-11-09', 'lowest_52_week_price': 33900000.0, 'lowest_52_week_date': '2021-06-22', 'market_state': 'ACTIVE', 'is_trading_suspended': False, 'delisting_date': None, 'market_warning': 'NONE', 'timestamp': 1647000788265, 'acc_trade_price_24h': 375165973870.6162, 'acc_trade_volume_24h': 7692.03789885, 'stream_type': 'REALTIME'}\n"
     ]
    },
    {
     "name": "stdout",
     "output_type": "stream",
     "text": [
      "{'type': 'ticker', 'code': 'KRW-BTC', 'opening_price': 48931000.0, 'high_price': 49941000.0, 'low_price': 47802000.0, 'trade_price': 49612000.0, 'prev_closing_price': 48917000.0, 'acc_trade_price': 206099955527.58255, 'change': 'RISE', 'change_price': 695000.0, 'signed_change_price': 695000.0, 'change_rate': 0.0142077396, 'signed_change_rate': 0.0142077396, 'ask_bid': 'ASK', 'trade_volume': 0.00817272, 'acc_trade_volume': 4233.31072963, 'trade_date': '20220311', 'trade_time': '121309', 'trade_timestamp': 1647000789000, 'acc_ask_volume': 2212.2988006, 'acc_bid_volume': 2021.01192903, 'highest_52_week_price': 82700000.0, 'highest_52_week_date': '2021-11-09', 'lowest_52_week_price': 33900000.0, 'lowest_52_week_date': '2021-06-22', 'market_state': 'ACTIVE', 'is_trading_suspended': False, 'delisting_date': None, 'market_warning': 'NONE', 'timestamp': 1647000788790, 'acc_trade_price_24h': 375165973870.6162, 'acc_trade_volume_24h': 7692.03789885, 'stream_type': 'REALTIME'}\n",
      "{'type': 'ticker', 'code': 'KRW-BTC', 'opening_price': 48931000.0, 'high_price': 49941000.0, 'low_price': 47802000.0, 'trade_price': 49625000.0, 'prev_closing_price': 48917000.0, 'acc_trade_price': 206100455527.24753, 'change': 'RISE', 'change_price': 708000.0, 'signed_change_price': 708000.0, 'change_rate': 0.0144734959, 'signed_change_rate': 0.0144734959, 'ask_bid': 'BID', 'trade_volume': 0.01007556, 'acc_trade_volume': 4233.32080519, 'trade_date': '20220311', 'trade_time': '121309', 'trade_timestamp': 1647000789000, 'acc_ask_volume': 2212.2988006, 'acc_bid_volume': 2021.02200459, 'highest_52_week_price': 82700000.0, 'highest_52_week_date': '2021-11-09', 'lowest_52_week_price': 33900000.0, 'lowest_52_week_date': '2021-06-22', 'market_state': 'ACTIVE', 'is_trading_suspended': False, 'delisting_date': None, 'market_warning': 'NONE', 'timestamp': 1647000788952, 'acc_trade_price_24h': 375165973870.6162, 'acc_trade_volume_24h': 7692.03789885, 'stream_type': 'REALTIME'}\n",
      "{'type': 'ticker', 'code': 'KRW-BTC', 'opening_price': 48931000.0, 'high_price': 49941000.0, 'low_price': 47802000.0, 'trade_price': 49625000.0, 'prev_closing_price': 48917000.0, 'acc_trade_price': 206100931625.03128, 'change': 'RISE', 'change_price': 708000.0, 'signed_change_price': 708000.0, 'change_rate': 0.0144734959, 'signed_change_rate': 0.0144734959, 'ask_bid': 'BID', 'trade_volume': 0.00959391, 'acc_trade_volume': 4233.3303991, 'trade_date': '20220311', 'trade_time': '121310', 'trade_timestamp': 1647000790000, 'acc_ask_volume': 2212.2988006, 'acc_bid_volume': 2021.0315985, 'highest_52_week_price': 82700000.0, 'highest_52_week_date': '2021-11-09', 'lowest_52_week_price': 33900000.0, 'lowest_52_week_date': '2021-06-22', 'market_state': 'ACTIVE', 'is_trading_suspended': False, 'delisting_date': None, 'market_warning': 'NONE', 'timestamp': 1647000789748, 'acc_trade_price_24h': 375165973870.6162, 'acc_trade_volume_24h': 7692.03789885, 'stream_type': 'REALTIME'}\n"
     ]
    },
    {
     "ename": "CancelledError",
     "evalue": "",
     "output_type": "error",
     "traceback": [
      "\u001b[1;31m---------------------------------------------------------------------------\u001b[0m",
      "\u001b[1;31mCancelledError\u001b[0m                            Traceback (most recent call last)",
      "\u001b[1;32m<ipython-input-29-ce3245c27fd9>\u001b[0m in \u001b[0;36masync-def-wrapper\u001b[1;34m()\u001b[0m\n\u001b[0;32m     20\u001b[0m         \u001b[0mdata\u001b[0m \u001b[1;33m=\u001b[0m \u001b[0mjson\u001b[0m\u001b[1;33m.\u001b[0m\u001b[0mloads\u001b[0m\u001b[1;33m(\u001b[0m\u001b[0mdata\u001b[0m\u001b[1;33m)\u001b[0m\u001b[1;33m\u001b[0m\u001b[1;33m\u001b[0m\u001b[0m\n\u001b[0;32m     21\u001b[0m         \u001b[0mprint\u001b[0m\u001b[1;33m(\u001b[0m\u001b[0mdata\u001b[0m\u001b[1;33m)\u001b[0m\u001b[1;33m\u001b[0m\u001b[1;33m\u001b[0m\u001b[0m\n",
      "\u001b[1;32m~\\anaconda3\\lib\\site-packages\\websockets\\legacy\\protocol.py\u001b[0m in \u001b[0;36mrecv\u001b[1;34m(self)\u001b[0m\n\u001b[0;32m    536\u001b[0m                     \u001b[1;33m[\u001b[0m\u001b[0mpop_message_waiter\u001b[0m\u001b[1;33m,\u001b[0m \u001b[0mself\u001b[0m\u001b[1;33m.\u001b[0m\u001b[0mtransfer_data_task\u001b[0m\u001b[1;33m]\u001b[0m\u001b[1;33m,\u001b[0m\u001b[1;33m\u001b[0m\u001b[1;33m\u001b[0m\u001b[0m\n\u001b[0;32m    537\u001b[0m                     \u001b[0mreturn_when\u001b[0m\u001b[1;33m=\u001b[0m\u001b[0masyncio\u001b[0m\u001b[1;33m.\u001b[0m\u001b[0mFIRST_COMPLETED\u001b[0m\u001b[1;33m,\u001b[0m\u001b[1;33m\u001b[0m\u001b[1;33m\u001b[0m\u001b[0m\n\u001b[1;32m--> 538\u001b[1;33m                     \u001b[1;33m**\u001b[0m\u001b[0mloop_if_py_lt_38\u001b[0m\u001b[1;33m(\u001b[0m\u001b[0mself\u001b[0m\u001b[1;33m.\u001b[0m\u001b[0mloop\u001b[0m\u001b[1;33m)\u001b[0m\u001b[1;33m,\u001b[0m\u001b[1;33m\u001b[0m\u001b[1;33m\u001b[0m\u001b[0m\n\u001b[0m\u001b[0;32m    539\u001b[0m                 )\n\u001b[0;32m    540\u001b[0m             \u001b[1;32mfinally\u001b[0m\u001b[1;33m:\u001b[0m\u001b[1;33m\u001b[0m\u001b[1;33m\u001b[0m\u001b[0m\n",
      "\u001b[1;32m~\\anaconda3\\lib\\asyncio\\tasks.py\u001b[0m in \u001b[0;36mwait\u001b[1;34m(fs, loop, timeout, return_when)\u001b[0m\n\u001b[0;32m    387\u001b[0m     \u001b[0mfs\u001b[0m \u001b[1;33m=\u001b[0m \u001b[1;33m{\u001b[0m\u001b[0mensure_future\u001b[0m\u001b[1;33m(\u001b[0m\u001b[0mf\u001b[0m\u001b[1;33m,\u001b[0m \u001b[0mloop\u001b[0m\u001b[1;33m=\u001b[0m\u001b[0mloop\u001b[0m\u001b[1;33m)\u001b[0m \u001b[1;32mfor\u001b[0m \u001b[0mf\u001b[0m \u001b[1;32min\u001b[0m \u001b[0mset\u001b[0m\u001b[1;33m(\u001b[0m\u001b[0mfs\u001b[0m\u001b[1;33m)\u001b[0m\u001b[1;33m}\u001b[0m\u001b[1;33m\u001b[0m\u001b[1;33m\u001b[0m\u001b[0m\n\u001b[0;32m    388\u001b[0m \u001b[1;33m\u001b[0m\u001b[0m\n\u001b[1;32m--> 389\u001b[1;33m     \u001b[1;32mreturn\u001b[0m \u001b[1;32mawait\u001b[0m \u001b[0m_wait\u001b[0m\u001b[1;33m(\u001b[0m\u001b[0mfs\u001b[0m\u001b[1;33m,\u001b[0m \u001b[0mtimeout\u001b[0m\u001b[1;33m,\u001b[0m \u001b[0mreturn_when\u001b[0m\u001b[1;33m,\u001b[0m \u001b[0mloop\u001b[0m\u001b[1;33m)\u001b[0m\u001b[1;33m\u001b[0m\u001b[1;33m\u001b[0m\u001b[0m\n\u001b[0m\u001b[0;32m    390\u001b[0m \u001b[1;33m\u001b[0m\u001b[0m\n\u001b[0;32m    391\u001b[0m \u001b[1;33m\u001b[0m\u001b[0m\n",
      "\u001b[1;32m~\\anaconda3\\lib\\asyncio\\tasks.py\u001b[0m in \u001b[0;36m_wait\u001b[1;34m(fs, timeout, return_when, loop)\u001b[0m\n\u001b[0;32m    480\u001b[0m \u001b[1;33m\u001b[0m\u001b[0m\n\u001b[0;32m    481\u001b[0m     \u001b[1;32mtry\u001b[0m\u001b[1;33m:\u001b[0m\u001b[1;33m\u001b[0m\u001b[1;33m\u001b[0m\u001b[0m\n\u001b[1;32m--> 482\u001b[1;33m         \u001b[1;32mawait\u001b[0m \u001b[0mwaiter\u001b[0m\u001b[1;33m\u001b[0m\u001b[1;33m\u001b[0m\u001b[0m\n\u001b[0m\u001b[0;32m    483\u001b[0m     \u001b[1;32mfinally\u001b[0m\u001b[1;33m:\u001b[0m\u001b[1;33m\u001b[0m\u001b[1;33m\u001b[0m\u001b[0m\n\u001b[0;32m    484\u001b[0m         \u001b[1;32mif\u001b[0m \u001b[0mtimeout_handle\u001b[0m \u001b[1;32mis\u001b[0m \u001b[1;32mnot\u001b[0m \u001b[1;32mNone\u001b[0m\u001b[1;33m:\u001b[0m\u001b[1;33m\u001b[0m\u001b[1;33m\u001b[0m\u001b[0m\n",
      "\u001b[1;31mCancelledError\u001b[0m: "
     ]
    }
   ],
   "source": [
    "uri = 'wss://api.upbit.com/websocket/v1'\n",
    "    \n",
    "async with websockets.connect(uri) as websocket:\n",
    "    s_fmt = [{\"ticket\":\"test\"},{\"type\":\"ticker\",\"codes\":[\"KRW-BTC\"]}]\n",
    "    subscribe_fmt = [\n",
    "        {\"ticket\": \"sample\"},\n",
    "        {\n",
    "            \"type\":\"ticker\", \n",
    "            \"codes\": [\"KRW_BTC\", \"KRW_ETH\"], \n",
    "            \"isOnlySnapshot\": True\n",
    "            #\"isOnlyRealtime\": True\n",
    "        }\n",
    "        #, {\"format\": \"SIMPLE\"}\n",
    "    ]\n",
    "    subscribe_data = json.dumps(s_fmt)\n",
    "    await websocket.send(subscribe_data)\n",
    "    \n",
    "    while True:\n",
    "        data = await websocket.recv()\n",
    "        data = json.loads(data)\n",
    "        print(data)"
   ]
  },
  {
   "cell_type": "code",
   "execution_count": 21,
   "metadata": {},
   "outputs": [
    {
     "name": "stderr",
     "output_type": "stream",
     "text": [
      "'telsocket'은(는) 내부 또는 외부 명령, 실행할 수 있는 프로그램, 또는\n",
      "배치 파일이 아닙니다.\n"
     ]
    }
   ],
   "source": [
    "!telsocket -url wss://api.upbit.com/websocket/v1"
   ]
  },
  {
   "cell_type": "code",
   "execution_count": null,
   "metadata": {},
   "outputs": [],
   "source": []
  }
 ],
 "metadata": {
  "kernelspec": {
   "display_name": "Python 3 (ipykernel)",
   "language": "python",
   "name": "python3"
  },
  "language_info": {
   "codemirror_mode": {
    "name": "ipython",
    "version": 3
   },
   "file_extension": ".py",
   "mimetype": "text/x-python",
   "name": "python",
   "nbconvert_exporter": "python",
   "pygments_lexer": "ipython3",
   "version": "3.9.10"
  }
 },
 "nbformat": 4,
 "nbformat_minor": 4
}
