{
 "cells": [
  {
   "cell_type": "code",
   "execution_count": 9,
   "metadata": {},
   "outputs": [],
   "source": [
    "import websockets\n",
    "import asyncio\n",
    "import json\n",
    "from kafka import KafkaProducer\n",
    "from json import dumps\n",
    "import sys"
   ]
  },
  {
   "cell_type": "code",
   "execution_count": 10,
   "metadata": {},
   "outputs": [],
   "source": [
    "if __nmae__ == \"__main__\":\n",
    "    data_num = int(sys.argv[1])\n",
    "\n",
    "    producer = KafkaProducer(\n",
    "        acks = 0,\n",
    "        compression_type = 'gzip',\n",
    "        bootstrap_servers = ['localhost:9091', 'localhost:9092', 'localhost:9093'],\n",
    "        value_serializer = lambda x: dumps(x).encode('utf-8')\n",
    "    )\n",
    "    \n",
    "    uri = 'wss://pubwss.bithumb.com/pub/ws'\n",
    "    \n",
    "    async with websockets.connect(uri) as websocket:\n",
    "        greeting = await websocket.recv()\n",
    "        print(greeting)\n",
    "\n",
    "        subscribe_fmt = {\n",
    "                \"type\":\"ticker\", \n",
    "                \"symbols\": [\"BTC_KRW\"], \n",
    "                \"tickTypes\": [\"1H\"]\n",
    "        }\n",
    "        subscribe_data = json.dumps(subscribe_fmt)\n",
    "        await websocket.send(subscribe_data)\n",
    "\n",
    "        for i in range(15):\n",
    "            data = await websocket.recv()\n",
    "            data = json.loads(data)\n",
    "            producer.send('test', value=data)\n",
    "            producer.flush()\n",
    "            print(data)"
   ]
  },
  {
   "cell_type": "code",
   "execution_count": 12,
   "metadata": {},
   "outputs": [
    {
     "name": "stdout",
     "output_type": "stream",
     "text": [
      "{\"status\":\"0000\",\"resmsg\":\"Connected Successfully\"}\n",
      "{'status': '0000', 'resmsg': 'Filter Registered Successfully'}\n",
      "{'type': 'ticker', 'content': {'tickType': '1H', 'date': '20220322', 'time': '003420', 'openPrice': '50093000', 'closePrice': '50224000', 'lowPrice': '50012000', 'highPrice': '50292000', 'value': '6399479085.06567', 'volume': '127.62529362', 'sellVolume': '50.8178', 'buyVolume': '76.80749362', 'prevClosePrice': '50162000', 'chgRate': '0.26', 'chgAmt': '131000', 'volumePower': '151.14', 'symbol': 'BTC_KRW'}}\n",
      "{'type': 'ticker', 'content': {'tickType': '1H', 'date': '20220322', 'time': '003422', 'openPrice': '50103000', 'closePrice': '50233000', 'lowPrice': '50012000', 'highPrice': '50292000', 'value': '6399515755.76567', 'volume': '127.62599362', 'sellVolume': '50.8071', 'buyVolume': '76.81889362', 'prevClosePrice': '50162000', 'chgRate': '0.26', 'chgAmt': '130000', 'volumePower': '151.2', 'symbol': 'BTC_KRW'}}\n",
      "{'type': 'ticker', 'content': {'tickType': '1H', 'date': '20220322', 'time': '003426', 'openPrice': '50103000', 'closePrice': '50209000', 'lowPrice': '50012000', 'highPrice': '50292000', 'value': '6403160192.76567', 'volume': '127.69849362', 'sellVolume': '50.7895', 'buyVolume': '76.90899362', 'prevClosePrice': '50162000', 'chgRate': '0.21', 'chgAmt': '106000', 'volumePower': '151.43', 'symbol': 'BTC_KRW'}}\n",
      "{'type': 'ticker', 'content': {'tickType': '1H', 'date': '20220322', 'time': '003431', 'openPrice': '50081000', 'closePrice': '50233000', 'lowPrice': '50012000', 'highPrice': '50292000', 'value': '6411268058.96567', 'volume': '127.85989362', 'sellVolume': '50.7895', 'buyVolume': '77.07039362', 'prevClosePrice': '50162000', 'chgRate': '0.30', 'chgAmt': '152000', 'volumePower': '151.74', 'symbol': 'BTC_KRW'}}\n",
      "{'type': 'ticker', 'content': {'tickType': '1H', 'date': '20220322', 'time': '003433', 'openPrice': '50081000', 'closePrice': '50233000', 'lowPrice': '50012000', 'highPrice': '50292000', 'value': '6410006017.76567', 'volume': '127.83469362', 'sellVolume': '50.7643', 'buyVolume': '77.07039362', 'prevClosePrice': '50162000', 'chgRate': '0.30', 'chgAmt': '152000', 'volumePower': '151.82', 'symbol': 'BTC_KRW'}}\n",
      "{'type': 'ticker', 'content': {'tickType': '1H', 'date': '20220322', 'time': '003435', 'openPrice': '50081000', 'closePrice': '50233000', 'lowPrice': '50012000', 'highPrice': '50292000', 'value': '6409455126.76567', 'volume': '127.82369362', 'sellVolume': '50.7533', 'buyVolume': '77.07039362', 'prevClosePrice': '50162000', 'chgRate': '0.30', 'chgAmt': '152000', 'volumePower': '151.85', 'symbol': 'BTC_KRW'}}\n"
     ]
    },
    {
     "ename": "CancelledError",
     "evalue": "",
     "output_type": "error",
     "traceback": [
      "\u001b[0;31m---------------------------------------------------------------------------\u001b[0m",
      "\u001b[0;31mCancelledError\u001b[0m                            Traceback (most recent call last)",
      "Input \u001b[0;32mIn [12]\u001b[0m, in \u001b[0;36m<module>\u001b[0;34m\u001b[0m\n\u001b[1;32m     13\u001b[0m \u001b[38;5;28;01mawait\u001b[39;00m websocket\u001b[38;5;241m.\u001b[39msend(subscribe_data)\n\u001b[1;32m     15\u001b[0m \u001b[38;5;28;01mfor\u001b[39;00m i \u001b[38;5;129;01min\u001b[39;00m \u001b[38;5;28mrange\u001b[39m(\u001b[38;5;241m15\u001b[39m):\n\u001b[0;32m---> 16\u001b[0m     data \u001b[38;5;241m=\u001b[39m \u001b[38;5;28;01mawait\u001b[39;00m websocket\u001b[38;5;241m.\u001b[39mrecv()\n\u001b[1;32m     17\u001b[0m     data \u001b[38;5;241m=\u001b[39m json\u001b[38;5;241m.\u001b[39mloads(data)\n\u001b[1;32m     18\u001b[0m     producer\u001b[38;5;241m.\u001b[39msend(\u001b[38;5;124m'\u001b[39m\u001b[38;5;124mtest\u001b[39m\u001b[38;5;124m'\u001b[39m, value\u001b[38;5;241m=\u001b[39mdata)\n",
      "File \u001b[0;32m/usr/local/lib/python3.9/site-packages/websockets/legacy/protocol.py:535\u001b[0m, in \u001b[0;36mWebSocketCommonProtocol.recv\u001b[0;34m(self)\u001b[0m\n\u001b[1;32m    531\u001b[0m \u001b[38;5;28mself\u001b[39m\u001b[38;5;241m.\u001b[39m_pop_message_waiter \u001b[38;5;241m=\u001b[39m pop_message_waiter\n\u001b[1;32m    532\u001b[0m \u001b[38;5;28;01mtry\u001b[39;00m:\n\u001b[1;32m    533\u001b[0m     \u001b[38;5;66;03m# If asyncio.wait() is canceled, it doesn't cancel\u001b[39;00m\n\u001b[1;32m    534\u001b[0m     \u001b[38;5;66;03m# pop_message_waiter and self.transfer_data_task.\u001b[39;00m\n\u001b[0;32m--> 535\u001b[0m     \u001b[38;5;28;01mawait\u001b[39;00m asyncio\u001b[38;5;241m.\u001b[39mwait(\n\u001b[1;32m    536\u001b[0m         [pop_message_waiter, \u001b[38;5;28mself\u001b[39m\u001b[38;5;241m.\u001b[39mtransfer_data_task],\n\u001b[1;32m    537\u001b[0m         return_when\u001b[38;5;241m=\u001b[39masyncio\u001b[38;5;241m.\u001b[39mFIRST_COMPLETED,\n\u001b[1;32m    538\u001b[0m         \u001b[38;5;241m*\u001b[39m\u001b[38;5;241m*\u001b[39mloop_if_py_lt_38(\u001b[38;5;28mself\u001b[39m\u001b[38;5;241m.\u001b[39mloop),\n\u001b[1;32m    539\u001b[0m     )\n\u001b[1;32m    540\u001b[0m \u001b[38;5;28;01mfinally\u001b[39;00m:\n\u001b[1;32m    541\u001b[0m     \u001b[38;5;28mself\u001b[39m\u001b[38;5;241m.\u001b[39m_pop_message_waiter \u001b[38;5;241m=\u001b[39m \u001b[38;5;28;01mNone\u001b[39;00m\n",
      "File \u001b[0;32m/usr/local/Cellar/python@3.9/3.9.10/Frameworks/Python.framework/Versions/3.9/lib/python3.9/asyncio/tasks.py:413\u001b[0m, in \u001b[0;36mwait\u001b[0;34m(fs, loop, timeout, return_when)\u001b[0m\n\u001b[1;32m    406\u001b[0m     warnings\u001b[38;5;241m.\u001b[39mwarn(\u001b[38;5;124m\"\u001b[39m\u001b[38;5;124mThe explicit passing of coroutine objects to \u001b[39m\u001b[38;5;124m\"\u001b[39m\n\u001b[1;32m    407\u001b[0m                   \u001b[38;5;124m\"\u001b[39m\u001b[38;5;124masyncio.wait() is deprecated since Python 3.8, and \u001b[39m\u001b[38;5;124m\"\u001b[39m\n\u001b[1;32m    408\u001b[0m                   \u001b[38;5;124m\"\u001b[39m\u001b[38;5;124mscheduled for removal in Python 3.11.\u001b[39m\u001b[38;5;124m\"\u001b[39m,\n\u001b[1;32m    409\u001b[0m                   \u001b[38;5;167;01mDeprecationWarning\u001b[39;00m, stacklevel\u001b[38;5;241m=\u001b[39m\u001b[38;5;241m2\u001b[39m)\n\u001b[1;32m    411\u001b[0m fs \u001b[38;5;241m=\u001b[39m {ensure_future(f, loop\u001b[38;5;241m=\u001b[39mloop) \u001b[38;5;28;01mfor\u001b[39;00m f \u001b[38;5;129;01min\u001b[39;00m fs}\n\u001b[0;32m--> 413\u001b[0m \u001b[38;5;28;01mreturn\u001b[39;00m \u001b[38;5;28;01mawait\u001b[39;00m _wait(fs, timeout, return_when, loop)\n",
      "File \u001b[0;32m/usr/local/Cellar/python@3.9/3.9.10/Frameworks/Python.framework/Versions/3.9/lib/python3.9/asyncio/tasks.py:525\u001b[0m, in \u001b[0;36m_wait\u001b[0;34m(fs, timeout, return_when, loop)\u001b[0m\n\u001b[1;32m    522\u001b[0m     f\u001b[38;5;241m.\u001b[39madd_done_callback(_on_completion)\n\u001b[1;32m    524\u001b[0m \u001b[38;5;28;01mtry\u001b[39;00m:\n\u001b[0;32m--> 525\u001b[0m     \u001b[38;5;28;01mawait\u001b[39;00m waiter\n\u001b[1;32m    526\u001b[0m \u001b[38;5;28;01mfinally\u001b[39;00m:\n\u001b[1;32m    527\u001b[0m     \u001b[38;5;28;01mif\u001b[39;00m timeout_handle \u001b[38;5;129;01mis\u001b[39;00m \u001b[38;5;129;01mnot\u001b[39;00m \u001b[38;5;28;01mNone\u001b[39;00m:\n",
      "\u001b[0;31mCancelledError\u001b[0m: "
     ]
    }
   ],
   "source": [
    "uri = 'wss://pubwss.bithumb.com/pub/ws'\n",
    "    \n",
    "async with websockets.connect(uri) as websocket:\n",
    "    greeting = await websocket.recv()\n",
    "    print(greeting)\n",
    "    \n",
    "    subscribe_fmt = {\n",
    "            \"type\":\"ticker\", \n",
    "            \"symbols\": [\"BTC_KRW\"], \n",
    "            \"tickTypes\": [\"1H\"]\n",
    "    }\n",
    "    subscribe_data = json.dumps(subscribe_fmt)\n",
    "    await websocket.send(subscribe_data)\n",
    "    \n",
    "    for i in range(15):\n",
    "        data = await websocket.recv()\n",
    "        data = json.loads(data)\n",
    "        producer.send('test', value=data)\n",
    "        producer.flush()\n",
    "        print(data)"
   ]
  },
  {
   "cell_type": "code",
   "execution_count": null,
   "metadata": {},
   "outputs": [],
   "source": []
  }
 ],
 "metadata": {
  "kernelspec": {
   "display_name": "Python 3 (ipykernel)",
   "language": "python",
   "name": "python3"
  },
  "language_info": {
   "codemirror_mode": {
    "name": "ipython",
    "version": 3
   },
   "file_extension": ".py",
   "mimetype": "text/x-python",
   "name": "python",
   "nbconvert_exporter": "python",
   "pygments_lexer": "ipython3",
   "version": "3.9.10"
  }
 },
 "nbformat": 4,
 "nbformat_minor": 4
}
